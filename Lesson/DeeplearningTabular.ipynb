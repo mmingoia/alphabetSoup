{
 "metadata": {
  "language_info": {
   "codemirror_mode": {
    "name": "ipython",
    "version": 3
   },
   "file_extension": ".py",
   "mimetype": "text/x-python",
   "name": "python",
   "nbconvert_exporter": "python",
   "pygments_lexer": "ipython3",
   "version": "3.7.7-final"
  },
  "orig_nbformat": 2,
  "kernelspec": {
   "name": "Python 3.7.7 64-bit ('PythonData': conda)",
   "display_name": "Python 3.7.7 64-bit ('PythonData': conda)",
   "metadata": {
    "interpreter": {
     "hash": "8eb93c95bd66bb1c37e84a7a0539426e5182ed0a06a9d52f414e0eeb4198a997"
    }
   }
  }
 },
 "nbformat": 4,
 "nbformat_minor": 2,
 "cells": [
  {
   "cell_type": "code",
   "execution_count": 1,
   "metadata": {},
   "outputs": [],
   "source": [
    "# Import our dependencies\n",
    "from sklearn.model_selection import train_test_split\n",
    "from sklearn.preprocessing import StandardScaler,OneHotEncoder\n",
    "import pandas as pd\n",
    "import tensorflow as tf"
   ]
  },
  {
   "cell_type": "code",
   "execution_count": 2,
   "metadata": {},
   "outputs": [
    {
     "output_type": "execute_result",
     "data": {
      "text/plain": "   Age Attrition     BusinessTravel  DailyRate              Department  \\\n0   41       Yes      Travel_Rarely       1102                   Sales   \n1   49        No  Travel_Frequently        279  Research &amp; Development   \n2   37       Yes      Travel_Rarely       1373  Research &amp; Development   \n3   33        No  Travel_Frequently       1392  Research &amp; Development   \n4   27        No      Travel_Rarely        591  Research &amp; Development   \n\n   DistanceFromHome  Education EducationField  EmployeeCount  EmployeeNumber  \\\n0                 1          2  Life Sciences              1               1   \n1                 8          1  Life Sciences              1               2   \n2                 2          2          Other              1               4   \n3                 3          4  Life Sciences              1               5   \n4                 2          1        Medical              1               7   \n\n   ...  RelationshipSatisfaction StandardHours  StockOptionLevel  \\\n0  ...                         1            80                 0   \n1  ...                         4            80                 1   \n2  ...                         2            80                 0   \n3  ...                         3            80                 0   \n4  ...                         4            80                 1   \n\n   TotalWorkingYears  TrainingTimesLastYear WorkLifeBalance  YearsAtCompany  \\\n0                  8                      0               1               6   \n1                 10                      3               3              10   \n2                  7                      3               3               0   \n3                  8                      3               3               8   \n4                  6                      3               3               2   \n\n  YearsInCurrentRole  YearsSinceLastPromotion  YearsWithCurrManager  \n0                  4                        0                     5  \n1                  7                        1                     7  \n2                  0                        0                     0  \n3                  7                        3                     0  \n4                  2                        2                     2  \n\n[5 rows x 35 columns]",
      "text/html": "<div>\n<style scoped>\n    .dataframe tbody tr th:only-of-type {\n        vertical-align: middle;\n    }\n\n    .dataframe tbody tr th {\n        vertical-align: top;\n    }\n\n    .dataframe thead th {\n        text-align: right;\n    }\n</style>\n<table border=\"1\" class=\"dataframe\">\n  <thead>\n    <tr style=\"text-align: right;\">\n      <th></th>\n      <th>Age</th>\n      <th>Attrition</th>\n      <th>BusinessTravel</th>\n      <th>DailyRate</th>\n      <th>Department</th>\n      <th>DistanceFromHome</th>\n      <th>Education</th>\n      <th>EducationField</th>\n      <th>EmployeeCount</th>\n      <th>EmployeeNumber</th>\n      <th>...</th>\n      <th>RelationshipSatisfaction</th>\n      <th>StandardHours</th>\n      <th>StockOptionLevel</th>\n      <th>TotalWorkingYears</th>\n      <th>TrainingTimesLastYear</th>\n      <th>WorkLifeBalance</th>\n      <th>YearsAtCompany</th>\n      <th>YearsInCurrentRole</th>\n      <th>YearsSinceLastPromotion</th>\n      <th>YearsWithCurrManager</th>\n    </tr>\n  </thead>\n  <tbody>\n    <tr>\n      <th>0</th>\n      <td>41</td>\n      <td>Yes</td>\n      <td>Travel_Rarely</td>\n      <td>1102</td>\n      <td>Sales</td>\n      <td>1</td>\n      <td>2</td>\n      <td>Life Sciences</td>\n      <td>1</td>\n      <td>1</td>\n      <td>...</td>\n      <td>1</td>\n      <td>80</td>\n      <td>0</td>\n      <td>8</td>\n      <td>0</td>\n      <td>1</td>\n      <td>6</td>\n      <td>4</td>\n      <td>0</td>\n      <td>5</td>\n    </tr>\n    <tr>\n      <th>1</th>\n      <td>49</td>\n      <td>No</td>\n      <td>Travel_Frequently</td>\n      <td>279</td>\n      <td>Research &amp; Development</td>\n      <td>8</td>\n      <td>1</td>\n      <td>Life Sciences</td>\n      <td>1</td>\n      <td>2</td>\n      <td>...</td>\n      <td>4</td>\n      <td>80</td>\n      <td>1</td>\n      <td>10</td>\n      <td>3</td>\n      <td>3</td>\n      <td>10</td>\n      <td>7</td>\n      <td>1</td>\n      <td>7</td>\n    </tr>\n    <tr>\n      <th>2</th>\n      <td>37</td>\n      <td>Yes</td>\n      <td>Travel_Rarely</td>\n      <td>1373</td>\n      <td>Research &amp; Development</td>\n      <td>2</td>\n      <td>2</td>\n      <td>Other</td>\n      <td>1</td>\n      <td>4</td>\n      <td>...</td>\n      <td>2</td>\n      <td>80</td>\n      <td>0</td>\n      <td>7</td>\n      <td>3</td>\n      <td>3</td>\n      <td>0</td>\n      <td>0</td>\n      <td>0</td>\n      <td>0</td>\n    </tr>\n    <tr>\n      <th>3</th>\n      <td>33</td>\n      <td>No</td>\n      <td>Travel_Frequently</td>\n      <td>1392</td>\n      <td>Research &amp; Development</td>\n      <td>3</td>\n      <td>4</td>\n      <td>Life Sciences</td>\n      <td>1</td>\n      <td>5</td>\n      <td>...</td>\n      <td>3</td>\n      <td>80</td>\n      <td>0</td>\n      <td>8</td>\n      <td>3</td>\n      <td>3</td>\n      <td>8</td>\n      <td>7</td>\n      <td>3</td>\n      <td>0</td>\n    </tr>\n    <tr>\n      <th>4</th>\n      <td>27</td>\n      <td>No</td>\n      <td>Travel_Rarely</td>\n      <td>591</td>\n      <td>Research &amp; Development</td>\n      <td>2</td>\n      <td>1</td>\n      <td>Medical</td>\n      <td>1</td>\n      <td>7</td>\n      <td>...</td>\n      <td>4</td>\n      <td>80</td>\n      <td>1</td>\n      <td>6</td>\n      <td>3</td>\n      <td>3</td>\n      <td>2</td>\n      <td>2</td>\n      <td>2</td>\n      <td>2</td>\n    </tr>\n  </tbody>\n</table>\n<p>5 rows × 35 columns</p>\n</div>"
     },
     "metadata": {},
     "execution_count": 2
    }
   ],
   "source": [
    "# Import our input dataset\n",
    "attrition_df = pd.read_csv('HR-Employee-Attrition.csv')\n",
    "attrition_df.head()"
   ]
  },
  {
   "cell_type": "code",
   "execution_count": 3,
   "metadata": {},
   "outputs": [],
   "source": [
    "# Generate our categorical variable list\n",
    "attrition_cat = attrition_df.dtypes[attrition_df.dtypes == \"object\"].index.tolist()"
   ]
  },
  {
   "cell_type": "code",
   "execution_count": 4,
   "metadata": {},
   "outputs": [
    {
     "output_type": "execute_result",
     "data": {
      "text/plain": "Attrition         2\nBusinessTravel    3\nDepartment        3\nEducationField    6\nGender            2\nJobRole           9\nMaritalStatus     3\nOver18            1\nOverTime          2\ndtype: int64"
     },
     "metadata": {},
     "execution_count": 4
    }
   ],
   "source": [
    "# Check the number of unique values in each column\n",
    "attrition_df[attrition_cat].nunique()"
   ]
  },
  {
   "cell_type": "code",
   "execution_count": 6,
   "metadata": {},
   "outputs": [
    {
     "output_type": "execute_result",
     "data": {
      "text/plain": "   Attrition_No  Attrition_Yes  BusinessTravel_Non-Travel  \\\n0           0.0            1.0                        0.0   \n1           1.0            0.0                        0.0   \n2           0.0            1.0                        0.0   \n3           1.0            0.0                        0.0   \n4           1.0            0.0                        0.0   \n\n   BusinessTravel_Travel_Frequently  BusinessTravel_Travel_Rarely  \\\n0                               0.0                           1.0   \n1                               1.0                           0.0   \n2                               0.0                           1.0   \n3                               1.0                           0.0   \n4                               0.0                           1.0   \n\n   Department_Human Resources  Department_Research &amp; Development  \\\n0                         0.0                                0.0   \n1                         0.0                                1.0   \n2                         0.0                                1.0   \n3                         0.0                                1.0   \n4                         0.0                                1.0   \n\n   Department_Sales  EducationField_Human Resources  \\\n0               1.0                             0.0   \n1               0.0                             0.0   \n2               0.0                             0.0   \n3               0.0                             0.0   \n4               0.0                             0.0   \n\n   EducationField_Life Sciences  ...  JobRole_Research Director  \\\n0                           1.0  ...                        0.0   \n1                           1.0  ...                        0.0   \n2                           0.0  ...                        0.0   \n3                           1.0  ...                        0.0   \n4                           0.0  ...                        0.0   \n\n   JobRole_Research Scientist  JobRole_Sales Executive  \\\n0                         0.0                      1.0   \n1                         1.0                      0.0   \n2                         0.0                      0.0   \n3                         1.0                      0.0   \n4                         0.0                      0.0   \n\n   JobRole_Sales Representative  MaritalStatus_Divorced  \\\n0                           0.0                     0.0   \n1                           0.0                     0.0   \n2                           0.0                     0.0   \n3                           0.0                     0.0   \n4                           0.0                     0.0   \n\n   MaritalStatus_Married  MaritalStatus_Single  Over18_Y  OverTime_No  \\\n0                    0.0                   1.0       1.0          0.0   \n1                    1.0                   0.0       1.0          1.0   \n2                    0.0                   1.0       1.0          0.0   \n3                    1.0                   0.0       1.0          0.0   \n4                    1.0                   0.0       1.0          1.0   \n\n   OverTime_Yes  \n0           1.0  \n1           0.0  \n2           1.0  \n3           1.0  \n4           0.0  \n\n[5 rows x 31 columns]",
      "text/html": "<div>\n<style scoped>\n    .dataframe tbody tr th:only-of-type {\n        vertical-align: middle;\n    }\n\n    .dataframe tbody tr th {\n        vertical-align: top;\n    }\n\n    .dataframe thead th {\n        text-align: right;\n    }\n</style>\n<table border=\"1\" class=\"dataframe\">\n  <thead>\n    <tr style=\"text-align: right;\">\n      <th></th>\n      <th>Attrition_No</th>\n      <th>Attrition_Yes</th>\n      <th>BusinessTravel_Non-Travel</th>\n      <th>BusinessTravel_Travel_Frequently</th>\n      <th>BusinessTravel_Travel_Rarely</th>\n      <th>Department_Human Resources</th>\n      <th>Department_Research &amp; Development</th>\n      <th>Department_Sales</th>\n      <th>EducationField_Human Resources</th>\n      <th>EducationField_Life Sciences</th>\n      <th>...</th>\n      <th>JobRole_Research Director</th>\n      <th>JobRole_Research Scientist</th>\n      <th>JobRole_Sales Executive</th>\n      <th>JobRole_Sales Representative</th>\n      <th>MaritalStatus_Divorced</th>\n      <th>MaritalStatus_Married</th>\n      <th>MaritalStatus_Single</th>\n      <th>Over18_Y</th>\n      <th>OverTime_No</th>\n      <th>OverTime_Yes</th>\n    </tr>\n  </thead>\n  <tbody>\n    <tr>\n      <th>0</th>\n      <td>0.0</td>\n      <td>1.0</td>\n      <td>0.0</td>\n      <td>0.0</td>\n      <td>1.0</td>\n      <td>0.0</td>\n      <td>0.0</td>\n      <td>1.0</td>\n      <td>0.0</td>\n      <td>1.0</td>\n      <td>...</td>\n      <td>0.0</td>\n      <td>0.0</td>\n      <td>1.0</td>\n      <td>0.0</td>\n      <td>0.0</td>\n      <td>0.0</td>\n      <td>1.0</td>\n      <td>1.0</td>\n      <td>0.0</td>\n      <td>1.0</td>\n    </tr>\n    <tr>\n      <th>1</th>\n      <td>1.0</td>\n      <td>0.0</td>\n      <td>0.0</td>\n      <td>1.0</td>\n      <td>0.0</td>\n      <td>0.0</td>\n      <td>1.0</td>\n      <td>0.0</td>\n      <td>0.0</td>\n      <td>1.0</td>\n      <td>...</td>\n      <td>0.0</td>\n      <td>1.0</td>\n      <td>0.0</td>\n      <td>0.0</td>\n      <td>0.0</td>\n      <td>1.0</td>\n      <td>0.0</td>\n      <td>1.0</td>\n      <td>1.0</td>\n      <td>0.0</td>\n    </tr>\n    <tr>\n      <th>2</th>\n      <td>0.0</td>\n      <td>1.0</td>\n      <td>0.0</td>\n      <td>0.0</td>\n      <td>1.0</td>\n      <td>0.0</td>\n      <td>1.0</td>\n      <td>0.0</td>\n      <td>0.0</td>\n      <td>0.0</td>\n      <td>...</td>\n      <td>0.0</td>\n      <td>0.0</td>\n      <td>0.0</td>\n      <td>0.0</td>\n      <td>0.0</td>\n      <td>0.0</td>\n      <td>1.0</td>\n      <td>1.0</td>\n      <td>0.0</td>\n      <td>1.0</td>\n    </tr>\n    <tr>\n      <th>3</th>\n      <td>1.0</td>\n      <td>0.0</td>\n      <td>0.0</td>\n      <td>1.0</td>\n      <td>0.0</td>\n      <td>0.0</td>\n      <td>1.0</td>\n      <td>0.0</td>\n      <td>0.0</td>\n      <td>1.0</td>\n      <td>...</td>\n      <td>0.0</td>\n      <td>1.0</td>\n      <td>0.0</td>\n      <td>0.0</td>\n      <td>0.0</td>\n      <td>1.0</td>\n      <td>0.0</td>\n      <td>1.0</td>\n      <td>0.0</td>\n      <td>1.0</td>\n    </tr>\n    <tr>\n      <th>4</th>\n      <td>1.0</td>\n      <td>0.0</td>\n      <td>0.0</td>\n      <td>0.0</td>\n      <td>1.0</td>\n      <td>0.0</td>\n      <td>1.0</td>\n      <td>0.0</td>\n      <td>0.0</td>\n      <td>0.0</td>\n      <td>...</td>\n      <td>0.0</td>\n      <td>0.0</td>\n      <td>0.0</td>\n      <td>0.0</td>\n      <td>0.0</td>\n      <td>1.0</td>\n      <td>0.0</td>\n      <td>1.0</td>\n      <td>1.0</td>\n      <td>0.0</td>\n    </tr>\n  </tbody>\n</table>\n<p>5 rows × 31 columns</p>\n</div>"
     },
     "metadata": {},
     "execution_count": 6
    }
   ],
   "source": [
    "# Create a OneHotEncoder instance\n",
    "enc = OneHotEncoder(sparse=False)\n",
    "\n",
    "# Fit and transform the OneHotEncoder using the categorical variable list\n",
    "encode_df = pd.DataFrame(enc.fit_transform(attrition_df[attrition_cat]))\n",
    "\n",
    "# Add the encoded variable names to the DataFrame\n",
    "encode_df.columns = enc.get_feature_names(attrition_cat)\n",
    "encode_df.head()"
   ]
  },
  {
   "cell_type": "code",
   "execution_count": 7,
   "metadata": {},
   "outputs": [
    {
     "output_type": "execute_result",
     "data": {
      "text/plain": "   Age  DailyRate  DistanceFromHome  Education  EmployeeCount  EmployeeNumber  \\\n0   41       1102                 1          2              1               1   \n1   49        279                 8          1              1               2   \n2   37       1373                 2          2              1               4   \n3   33       1392                 3          4              1               5   \n4   27        591                 2          1              1               7   \n\n   EnvironmentSatisfaction  HourlyRate  JobInvolvement  JobLevel  ...  \\\n0                        2          94               3         2  ...   \n1                        3          61               2         2  ...   \n2                        4          92               2         1  ...   \n3                        4          56               3         1  ...   \n4                        1          40               3         1  ...   \n\n   JobRole_Research Director  JobRole_Research Scientist  \\\n0                        0.0                         0.0   \n1                        0.0                         1.0   \n2                        0.0                         0.0   \n3                        0.0                         1.0   \n4                        0.0                         0.0   \n\n   JobRole_Sales Executive  JobRole_Sales Representative  \\\n0                      1.0                           0.0   \n1                      0.0                           0.0   \n2                      0.0                           0.0   \n3                      0.0                           0.0   \n4                      0.0                           0.0   \n\n   MaritalStatus_Divorced  MaritalStatus_Married  MaritalStatus_Single  \\\n0                     0.0                    0.0                   1.0   \n1                     0.0                    1.0                   0.0   \n2                     0.0                    0.0                   1.0   \n3                     0.0                    1.0                   0.0   \n4                     0.0                    1.0                   0.0   \n\n   Over18_Y  OverTime_No  OverTime_Yes  \n0       1.0          0.0           1.0  \n1       1.0          1.0           0.0  \n2       1.0          0.0           1.0  \n3       1.0          0.0           1.0  \n4       1.0          1.0           0.0  \n\n[5 rows x 57 columns]",
      "text/html": "<div>\n<style scoped>\n    .dataframe tbody tr th:only-of-type {\n        vertical-align: middle;\n    }\n\n    .dataframe tbody tr th {\n        vertical-align: top;\n    }\n\n    .dataframe thead th {\n        text-align: right;\n    }\n</style>\n<table border=\"1\" class=\"dataframe\">\n  <thead>\n    <tr style=\"text-align: right;\">\n      <th></th>\n      <th>Age</th>\n      <th>DailyRate</th>\n      <th>DistanceFromHome</th>\n      <th>Education</th>\n      <th>EmployeeCount</th>\n      <th>EmployeeNumber</th>\n      <th>EnvironmentSatisfaction</th>\n      <th>HourlyRate</th>\n      <th>JobInvolvement</th>\n      <th>JobLevel</th>\n      <th>...</th>\n      <th>JobRole_Research Director</th>\n      <th>JobRole_Research Scientist</th>\n      <th>JobRole_Sales Executive</th>\n      <th>JobRole_Sales Representative</th>\n      <th>MaritalStatus_Divorced</th>\n      <th>MaritalStatus_Married</th>\n      <th>MaritalStatus_Single</th>\n      <th>Over18_Y</th>\n      <th>OverTime_No</th>\n      <th>OverTime_Yes</th>\n    </tr>\n  </thead>\n  <tbody>\n    <tr>\n      <th>0</th>\n      <td>41</td>\n      <td>1102</td>\n      <td>1</td>\n      <td>2</td>\n      <td>1</td>\n      <td>1</td>\n      <td>2</td>\n      <td>94</td>\n      <td>3</td>\n      <td>2</td>\n      <td>...</td>\n      <td>0.0</td>\n      <td>0.0</td>\n      <td>1.0</td>\n      <td>0.0</td>\n      <td>0.0</td>\n      <td>0.0</td>\n      <td>1.0</td>\n      <td>1.0</td>\n      <td>0.0</td>\n      <td>1.0</td>\n    </tr>\n    <tr>\n      <th>1</th>\n      <td>49</td>\n      <td>279</td>\n      <td>8</td>\n      <td>1</td>\n      <td>1</td>\n      <td>2</td>\n      <td>3</td>\n      <td>61</td>\n      <td>2</td>\n      <td>2</td>\n      <td>...</td>\n      <td>0.0</td>\n      <td>1.0</td>\n      <td>0.0</td>\n      <td>0.0</td>\n      <td>0.0</td>\n      <td>1.0</td>\n      <td>0.0</td>\n      <td>1.0</td>\n      <td>1.0</td>\n      <td>0.0</td>\n    </tr>\n    <tr>\n      <th>2</th>\n      <td>37</td>\n      <td>1373</td>\n      <td>2</td>\n      <td>2</td>\n      <td>1</td>\n      <td>4</td>\n      <td>4</td>\n      <td>92</td>\n      <td>2</td>\n      <td>1</td>\n      <td>...</td>\n      <td>0.0</td>\n      <td>0.0</td>\n      <td>0.0</td>\n      <td>0.0</td>\n      <td>0.0</td>\n      <td>0.0</td>\n      <td>1.0</td>\n      <td>1.0</td>\n      <td>0.0</td>\n      <td>1.0</td>\n    </tr>\n    <tr>\n      <th>3</th>\n      <td>33</td>\n      <td>1392</td>\n      <td>3</td>\n      <td>4</td>\n      <td>1</td>\n      <td>5</td>\n      <td>4</td>\n      <td>56</td>\n      <td>3</td>\n      <td>1</td>\n      <td>...</td>\n      <td>0.0</td>\n      <td>1.0</td>\n      <td>0.0</td>\n      <td>0.0</td>\n      <td>0.0</td>\n      <td>1.0</td>\n      <td>0.0</td>\n      <td>1.0</td>\n      <td>0.0</td>\n      <td>1.0</td>\n    </tr>\n    <tr>\n      <th>4</th>\n      <td>27</td>\n      <td>591</td>\n      <td>2</td>\n      <td>1</td>\n      <td>1</td>\n      <td>7</td>\n      <td>1</td>\n      <td>40</td>\n      <td>3</td>\n      <td>1</td>\n      <td>...</td>\n      <td>0.0</td>\n      <td>0.0</td>\n      <td>0.0</td>\n      <td>0.0</td>\n      <td>0.0</td>\n      <td>1.0</td>\n      <td>0.0</td>\n      <td>1.0</td>\n      <td>1.0</td>\n      <td>0.0</td>\n    </tr>\n  </tbody>\n</table>\n<p>5 rows × 57 columns</p>\n</div>"
     },
     "metadata": {},
     "execution_count": 7
    }
   ],
   "source": [
    "# Merge one-hot encoded features and drop the originals\n",
    "attrition_df = attrition_df.merge(encode_df,left_index=True, right_index=True)\n",
    "attrition_df = attrition_df.drop(attrition_cat,1)\n",
    "attrition_df.head()"
   ]
  },
  {
   "cell_type": "code",
   "execution_count": 8,
   "metadata": {},
   "outputs": [],
   "source": [
    "# Split our preprocessed data into our features and target arrays\n",
    "y = attrition_df[\"Attrition_Yes\"].values\n",
    "X = attrition_df.drop([\"Attrition_Yes\",\"Attrition_No\"],1).values\n",
    "\n",
    "# Split the preprocessed data into a training and testing dataset\n",
    "X_train, X_test, y_train, y_test = train_test_split(X, y, random_state=78)"
   ]
  },
  {
   "cell_type": "code",
   "execution_count": 9,
   "metadata": {},
   "outputs": [],
   "source": [
    "# Create a StandardScaler instance\n",
    "scaler = StandardScaler()\n",
    "\n",
    "# Fit the StandardScaler\n",
    "X_scaler = scaler.fit(X_train)\n",
    "\n",
    "# Scale the data\n",
    "X_train_scaled = X_scaler.transform(X_train)\n",
    "X_test_scaled = X_scaler.transform(X_test)"
   ]
  },
  {
   "cell_type": "code",
   "execution_count": 10,
   "metadata": {
    "tags": []
   },
   "outputs": [
    {
     "output_type": "stream",
     "name": "stdout",
     "text": "WARNING:tensorflow:From C:\\Users\\Mike\\anaconda3\\envs\\PythonData\\lib\\site-packages\\tensorflow\\python\\ops\\init_ops.py:1251: calling VarianceScaling.__init__ (from tensorflow.python.ops.init_ops) with dtype is deprecated and will be removed in a future version.\nInstructions for updating:\nCall initializer instance with the dtype argument instead of passing it to the constructor\nModel: &quot;sequential&quot;\n_________________________________________________________________\nLayer (type)                 Output Shape              Param #   \n=================================================================\ndense (Dense)                (None, 8)                 448       \n_________________________________________________________________\ndense_1 (Dense)              (None, 5)                 45        \n_________________________________________________________________\ndense_2 (Dense)              (None, 1)                 6         \n=================================================================\nTotal params: 499\nTrainable params: 499\nNon-trainable params: 0\n_________________________________________________________________\n"
    }
   ],
   "source": [
    "# Define the model - deep neural net\n",
    "number_input_features = len(X_train[0])\n",
    "hidden_nodes_layer1 =  8\n",
    "hidden_nodes_layer2 = 5\n",
    "\n",
    "nn = tf.keras.models.Sequential()\n",
    "\n",
    "# First hidden layer\n",
    "nn.add(\n",
    "    tf.keras.layers.Dense(units=hidden_nodes_layer1, input_dim=number_input_features, activation=\"relu\")\n",
    ")\n",
    "\n",
    "# Second hidden layer\n",
    "nn.add(tf.keras.layers.Dense(units=hidden_nodes_layer2, activation=\"relu\"))\n",
    "\n",
    "# Output layer\n",
    "nn.add(tf.keras.layers.Dense(units=1, activation=\"sigmoid\"))\n",
    "\n",
    "# Check the structure of the model\n",
    "nn.summary()"
   ]
  },
  {
   "cell_type": "code",
   "execution_count": 11,
   "metadata": {},
   "outputs": [],
   "source": [
    "# Import checkpoint dependencies\n",
    "import os\n",
    "from tensorflow.keras.callbacks import ModelCheckpoint\n",
    "\n",
    "# Define the checkpoint path and filenames\n",
    "os.makedirs(\"checkpoints/\",exist_ok=True)\n",
    "checkpoint_path = \"checkpoints/weights.{epoch:02d}.hdf5\""
   ]
  },
  {
   "cell_type": "code",
   "execution_count": 12,
   "metadata": {
    "tags": [
     "outputPrepend"
    ]
   },
   "outputs": [
    {
     "output_type": "stream",
     "name": "stdout",
     "text": "/weights.22.hdf5\n 960/1102 [=========================&gt;....] - ETA: 0s - loss: 0.3188 - acc: 0.8760\nEpoch 00022: saving model to checkpoints/weights.22.hdf5\n1102/1102 [==============================] - 0s 85us/sample - loss: 0.3129 - acc: 0.8820\nEpoch 23/100\n  32/1102 [..............................] - ETA: 0s - loss: 0.1640 - acc: 1.0000\nEpoch 00023: saving model to checkpoints/weights.23.hdf5\n1102/1102 [==============================] - 0s 69us/sample - loss: 0.3040 - acc: 0.8857\nEpoch 24/100\n 832/1102 [=====================&gt;........] - ETA: 0s - loss: 0.2841 - acc: 0.8930\nEpoch 00024: saving model to checkpoints/weights.24.hdf5\n1102/1102 [==============================] - 0s 80us/sample - loss: 0.2952 - acc: 0.8902\nEpoch 25/100\n  32/1102 [..............................] - ETA: 0s - loss: 0.1958 - acc: 0.9062\nEpoch 00025: saving model to checkpoints/weights.25.hdf5\n1102/1102 [==============================] - 0s 80us/sample - loss: 0.2891 - acc: 0.8947\nEpoch 26/100\n  32/1102 [..............................] - ETA: 0s - loss: 0.2947 - acc: 0.9375\nEpoch 00026: saving model to checkpoints/weights.26.hdf5\n1102/1102 [==============================] - 0s 64us/sample - loss: 0.2826 - acc: 0.8993\nEpoch 27/100\n  32/1102 [..............................] - ETA: 0s - loss: 0.2754 - acc: 0.8438\nEpoch 00027: saving model to checkpoints/weights.27.hdf5\n1102/1102 [==============================] - 0s 76us/sample - loss: 0.2780 - acc: 0.8984\nEpoch 28/100\n  32/1102 [..............................] - ETA: 0s - loss: 0.1819 - acc: 0.9688\nEpoch 00028: saving model to checkpoints/weights.28.hdf5\n1102/1102 [==============================] - 0s 68us/sample - loss: 0.2737 - acc: 0.8984\nEpoch 29/100\n  32/1102 [..............................] - ETA: 0s - loss: 0.3870 - acc: 0.8750\nEpoch 00029: saving model to checkpoints/weights.29.hdf5\n1102/1102 [==============================] - 0s 81us/sample - loss: 0.2684 - acc: 0.9047\nEpoch 30/100\n  32/1102 [..............................] - ETA: 0s - loss: 0.3702 - acc: 0.8438\nEpoch 00030: saving model to checkpoints/weights.30.hdf5\n1102/1102 [==============================] - 0s 81us/sample - loss: 0.2649 - acc: 0.9056\nEpoch 31/100\n  32/1102 [..............................] - ETA: 0s - loss: 0.1567 - acc: 0.9688\nEpoch 00031: saving model to checkpoints/weights.31.hdf5\n1102/1102 [==============================] - 0s 64us/sample - loss: 0.2611 - acc: 0.9029\nEpoch 32/100\n  32/1102 [..............................] - ETA: 0s - loss: 0.2786 - acc: 0.9062\nEpoch 00032: saving model to checkpoints/weights.32.hdf5\n 832/1102 [=====================&gt;........] - ETA: 0s - loss: 0.2622 - acc: 0.9038\nEpoch 00032: saving model to checkpoints/weights.32.hdf5\n1102/1102 [==============================] - 0s 84us/sample - loss: 0.2576 - acc: 0.9065\nEpoch 33/100\n  32/1102 [..............................] - ETA: 0s - loss: 0.1324 - acc: 1.0000\nEpoch 00033: saving model to checkpoints/weights.33.hdf5\n1102/1102 [==============================] - 0s 67us/sample - loss: 0.2532 - acc: 0.9120\nEpoch 34/100\n 864/1102 [======================&gt;.......] - ETA: 0s - loss: 0.2667 - acc: 0.9086\nEpoch 00034: saving model to checkpoints/weights.34.hdf5\n1102/1102 [==============================] - 0s 71us/sample - loss: 0.2498 - acc: 0.9138\nEpoch 35/100\n  32/1102 [..............................] - ETA: 0s - loss: 0.2736 - acc: 0.9062\nEpoch 00035: saving model to checkpoints/weights.35.hdf5\n1102/1102 [==============================] - 0s 77us/sample - loss: 0.2461 - acc: 0.9138\nEpoch 36/100\n  32/1102 [..............................] - ETA: 0s - loss: 0.0904 - acc: 1.0000\nEpoch 00036: saving model to checkpoints/weights.36.hdf5\n1102/1102 [==============================] - 0s 66us/sample - loss: 0.2423 - acc: 0.9183\nEpoch 37/100\n  32/1102 [..............................] - ETA: 0s - loss: 0.4566 - acc: 0.8750\nEpoch 00037: saving model to checkpoints/weights.37.hdf5\n1102/1102 [==============================] - 0s 83us/sample - loss: 0.2393 - acc: 0.9174\nEpoch 38/100\n  32/1102 [..............................] - ETA: 0s - loss: 0.3505 - acc: 0.9062\nEpoch 00038: saving model to checkpoints/weights.38.hdf5\n1102/1102 [==============================] - 0s 75us/sample - loss: 0.2358 - acc: 0.9183\nEpoch 39/100\n  32/1102 [..............................] - ETA: 0s - loss: 0.3073 - acc: 0.8750\nEpoch 00039: saving model to checkpoints/weights.39.hdf5\n1102/1102 [==============================] - 0s 75us/sample - loss: 0.2329 - acc: 0.9238\nEpoch 40/100\n  32/1102 [..............................] - ETA: 0s - loss: 0.1900 - acc: 0.9062\nEpoch 00040: saving model to checkpoints/weights.40.hdf5\n1102/1102 [==============================] - 0s 92us/sample - loss: 0.2306 - acc: 0.9238\nEpoch 41/100\n  32/1102 [..............................] - ETA: 0s - loss: 0.1919 - acc: 0.9062\nEpoch 00041: saving model to checkpoints/weights.41.hdf5\n1102/1102 [==============================] - 0s 69us/sample - loss: 0.2271 - acc: 0.9238\nEpoch 42/100\n  32/1102 [..............................] - ETA: 0s - loss: 0.3244 - acc: 0.9062\nEpoch 00042: saving model to checkpoints/weights.42.hdf5\n1102/1102 [==============================] - 0s 91us/sample - loss: 0.2246 - acc: 0.9274\nEpoch 43/100\n  32/1102 [..............................] - ETA: 0s - loss: 0.2250 - acc: 0.8750\nEpoch 00043: saving model to checkpoints/weights.43.hdf5\n1024/1102 [==========================&gt;...] - ETA: 0s - loss: 0.2138 - acc: 0.9307\nEpoch 00043: saving model to checkpoints/weights.43.hdf5\n1102/1102 [==============================] - 0s 148us/sample - loss: 0.2221 - acc: 0.9256\nEpoch 44/100\n  32/1102 [..............................] - ETA: 0s - loss: 0.3956 - acc: 0.8125\nEpoch 00044: saving model to checkpoints/weights.44.hdf5\n1102/1102 [==============================] - 0s 83us/sample - loss: 0.2203 - acc: 0.9283\nEpoch 45/100\n  32/1102 [..............................] - ETA: 0s - loss: 0.1096 - acc: 0.9688\nEpoch 00045: saving model to checkpoints/weights.45.hdf5\n1102/1102 [==============================] - 0s 66us/sample - loss: 0.2180 - acc: 0.9274\nEpoch 46/100\n  32/1102 [..............................] - ETA: 0s - loss: 0.1709 - acc: 0.9375\nEpoch 00046: saving model to checkpoints/weights.46.hdf5\n1102/1102 [==============================] - 0s 89us/sample - loss: 0.2162 - acc: 0.9301\nEpoch 47/100\n  32/1102 [..............................] - ETA: 0s - loss: 0.2043 - acc: 0.9062\nEpoch 00047: saving model to checkpoints/weights.47.hdf5\n1102/1102 [==============================] - 0s 86us/sample - loss: 0.2140 - acc: 0.9310\nEpoch 48/100\n  32/1102 [..............................] - ETA: 0s - loss: 0.2073 - acc: 0.9375\nEpoch 00048: saving model to checkpoints/weights.48.hdf5\n1102/1102 [==============================] - 0s 63us/sample - loss: 0.2121 - acc: 0.9301\nEpoch 49/100\n  32/1102 [..............................] - ETA: 0s - loss: 0.1975 - acc: 0.9375\nEpoch 00049: saving model to checkpoints/weights.49.hdf5\n1102/1102 [==============================] - 0s 77us/sample - loss: 0.2108 - acc: 0.9301\nEpoch 50/100\n  32/1102 [..............................] - ETA: 0s - loss: 0.1860 - acc: 0.9688\nEpoch 00050: saving model to checkpoints/weights.50.hdf5\n1102/1102 [==============================] - 0s 67us/sample - loss: 0.2094 - acc: 0.9338\nEpoch 51/100\n  32/1102 [..............................] - ETA: 0s - loss: 0.1790 - acc: 0.9375\nEpoch 00051: saving model to checkpoints/weights.51.hdf5\n1102/1102 [==============================] - 0s 81us/sample - loss: 0.2075 - acc: 0.9356\nEpoch 52/100\n  32/1102 [..............................] - ETA: 0s - loss: 0.1362 - acc: 0.9688\nEpoch 00052: saving model to checkpoints/weights.52.hdf5\n1102/1102 [==============================] - 0s 73us/sample - loss: 0.2061 - acc: 0.9347\nEpoch 53/100\n  32/1102 [..............................] - ETA: 0s - loss: 0.3729 - acc: 0.8125\nEpoch 00053: saving model to checkpoints/weights.53.hdf5\n1102/1102 [==============================] - 0s 75us/sample - loss: 0.2043 - acc: 0.9347\nEpoch 54/100\n\nEpoch 00054: saving model to checkpoints/weights.54.hdf5\n 864/1102 [======================&gt;.......] - ETA: 0s - loss: 0.2139 - acc: 0.9282\nEpoch 00054: saving model to checkpoints/weights.54.hdf5\n1102/1102 [==============================] - 0s 97us/sample - loss: 0.2033 - acc: 0.9356\nEpoch 55/100\n  32/1102 [..............................] - ETA: 0s - loss: 0.1196 - acc: 0.9688\nEpoch 00055: saving model to checkpoints/weights.55.hdf5\n1102/1102 [==============================] - 0s 75us/sample - loss: 0.2013 - acc: 0.9365\nEpoch 56/100\n  32/1102 [..............................] - ETA: 0s - loss: 0.1479 - acc: 0.9688\nEpoch 00056: saving model to checkpoints/weights.56.hdf5\n1102/1102 [==============================] - 0s 75us/sample - loss: 0.1994 - acc: 0.9374\nEpoch 57/100\n  32/1102 [..............................] - ETA: 0s - loss: 0.1760 - acc: 0.9688\nEpoch 00057: saving model to checkpoints/weights.57.hdf5\n1102/1102 [==============================] - 0s 71us/sample - loss: 0.1987 - acc: 0.9374\nEpoch 58/100\n  32/1102 [..............................] - ETA: 0s - loss: 0.1983 - acc: 0.9688\nEpoch 00058: saving model to checkpoints/weights.58.hdf5\n1102/1102 [==============================] - 0s 71us/sample - loss: 0.1962 - acc: 0.9392\nEpoch 59/100\n  32/1102 [..............................] - ETA: 0s - loss: 0.1949 - acc: 0.9375\nEpoch 00059: saving model to checkpoints/weights.59.hdf5\n1102/1102 [==============================] - 0s 79us/sample - loss: 0.1956 - acc: 0.9410\nEpoch 60/100\n  32/1102 [..............................] - ETA: 0s - loss: 0.0905 - acc: 0.9688\nEpoch 00060: saving model to checkpoints/weights.60.hdf5\n1102/1102 [==============================] - 0s 82us/sample - loss: 0.1935 - acc: 0.9374\nEpoch 61/100\n  32/1102 [..............................] - ETA: 0s - loss: 0.2709 - acc: 0.8750\nEpoch 00061: saving model to checkpoints/weights.61.hdf5\n1102/1102 [==============================] - 0s 98us/sample - loss: 0.1924 - acc: 0.9392\nEpoch 62/100\n  32/1102 [..............................] - ETA: 0s - loss: 0.2811 - acc: 0.9375\nEpoch 00062: saving model to checkpoints/weights.62.hdf5\n1102/1102 [==============================] - 0s 69us/sample - loss: 0.1907 - acc: 0.9392\nEpoch 63/100\n  32/1102 [..............................] - ETA: 0s - loss: 0.2061 - acc: 0.9375\nEpoch 00063: saving model to checkpoints/weights.63.hdf5\n1102/1102 [==============================] - 0s 69us/sample - loss: 0.1899 - acc: 0.9392\nEpoch 64/100\n  32/1102 [..............................] - ETA: 0s - loss: 0.0850 - acc: 1.0000\nEpoch 00064: saving model to checkpoints/weights.64.hdf5\n 480/1102 [============&gt;.................] - ETA: 0s - loss: 0.1800 - acc: 0.9521\nEpoch 00064: saving model to checkpoints/weights.64.hdf5\n1102/1102 [==============================] - 0s 119us/sample - loss: 0.1887 - acc: 0.9410\nEpoch 65/100\n 864/1102 [======================&gt;.......] - ETA: 0s - loss: 0.1968 - acc: 0.9363\nEpoch 00065: saving model to checkpoints/weights.65.hdf5\n1102/1102 [==============================] - 0s 75us/sample - loss: 0.1876 - acc: 0.9392\nEpoch 66/100\n  32/1102 [..............................] - ETA: 0s - loss: 0.1538 - acc: 0.9688\nEpoch 00066: saving model to checkpoints/weights.66.hdf5\n1102/1102 [==============================] - 0s 65us/sample - loss: 0.1856 - acc: 0.9419\nEpoch 67/100\n 704/1102 [==================&gt;...........] - ETA: 0s - loss: 0.1877 - acc: 0.9460\nEpoch 00067: saving model to checkpoints/weights.67.hdf5\n1102/1102 [==============================] - 0s 80us/sample - loss: 0.1848 - acc: 0.9428\nEpoch 68/100\n  32/1102 [..............................] - ETA: 0s - loss: 0.2209 - acc: 0.9375\nEpoch 00068: saving model to checkpoints/weights.68.hdf5\n1102/1102 [==============================] - 0s 69us/sample - loss: 0.1847 - acc: 0.9419\nEpoch 69/100\n  32/1102 [..............................] - ETA: 0s - loss: 0.0562 - acc: 1.0000\nEpoch 00069: saving model to checkpoints/weights.69.hdf5\n1102/1102 [==============================] - 0s 73us/sample - loss: 0.1826 - acc: 0.9428\nEpoch 70/100\n  32/1102 [..............................] - ETA: 0s - loss: 0.1105 - acc: 0.9688\nEpoch 00070: saving model to checkpoints/weights.70.hdf5\n1102/1102 [==============================] - 0s 95us/sample - loss: 0.1819 - acc: 0.9410\nEpoch 71/100\n  32/1102 [..............................] - ETA: 0s - loss: 0.0757 - acc: 1.0000\nEpoch 00071: saving model to checkpoints/weights.71.hdf5\n1102/1102 [==============================] - 0s 67us/sample - loss: 0.1802 - acc: 0.9437\nEpoch 72/100\n  32/1102 [..............................] - ETA: 0s - loss: 0.1874 - acc: 0.9375\nEpoch 00072: saving model to checkpoints/weights.72.hdf5\n1102/1102 [==============================] - 0s 72us/sample - loss: 0.1786 - acc: 0.9437\nEpoch 73/100\n  32/1102 [..............................] - ETA: 0s - loss: 0.2112 - acc: 0.9062\nEpoch 00073: saving model to checkpoints/weights.73.hdf5\n1102/1102 [==============================] - 0s 81us/sample - loss: 0.1779 - acc: 0.9437\nEpoch 74/100\n  32/1102 [..............................] - ETA: 0s - loss: 0.0685 - acc: 1.0000\nEpoch 00074: saving model to checkpoints/weights.74.hdf5\n1102/1102 [==============================] - 0s 67us/sample - loss: 0.1764 - acc: 0.9428\nEpoch 75/100\n  32/1102 [..............................] - ETA: 0s - loss: 0.0652 - acc: 1.0000\nEpoch 00075: saving model to checkpoints/weights.75.hdf5\n 864/1102 [======================&gt;.......] - ETA: 0s - loss: 0.1688 - acc: 0.9468\nEpoch 00075: saving model to checkpoints/weights.75.hdf5\n1102/1102 [==============================] - 0s 140us/sample - loss: 0.1752 - acc: 0.9446\nEpoch 76/100\n 832/1102 [=====================&gt;........] - ETA: 0s - loss: 0.1651 - acc: 0.9483\nEpoch 00076: saving model to checkpoints/weights.76.hdf5\n1102/1102 [==============================] - 0s 140us/sample - loss: 0.1737 - acc: 0.9446\nEpoch 77/100\n  32/1102 [..............................] - ETA: 0s - loss: 0.3301 - acc: 0.9062\nEpoch 00077: saving model to checkpoints/weights.77.hdf5\n1102/1102 [==============================] - 0s 67us/sample - loss: 0.1737 - acc: 0.9446\nEpoch 78/100\n  32/1102 [..............................] - ETA: 0s - loss: 0.0450 - acc: 1.0000\nEpoch 00078: saving model to checkpoints/weights.78.hdf5\n1102/1102 [==============================] - 0s 63us/sample - loss: 0.1733 - acc: 0.9456\nEpoch 79/100\n 608/1102 [===============&gt;..............] - ETA: 0s - loss: 0.1921 - acc: 0.9408\nEpoch 00079: saving model to checkpoints/weights.79.hdf5\n1102/1102 [==============================] - 0s 119us/sample - loss: 0.1718 - acc: 0.9446\nEpoch 80/100\n  32/1102 [..............................] - ETA: 0s - loss: 0.1807 - acc: 0.9688\nEpoch 00080: saving model to checkpoints/weights.80.hdf5\n1102/1102 [==============================] - 0s 82us/sample - loss: 0.1704 - acc: 0.9456\nEpoch 81/100\n  32/1102 [..............................] - ETA: 0s - loss: 0.2184 - acc: 0.9375\nEpoch 00081: saving model to checkpoints/weights.81.hdf5\n1102/1102 [==============================] - 0s 71us/sample - loss: 0.1692 - acc: 0.9465\nEpoch 82/100\n  32/1102 [..............................] - ETA: 0s - loss: 0.0692 - acc: 0.9688\nEpoch 00082: saving model to checkpoints/weights.82.hdf5\n1102/1102 [==============================] - 0s 69us/sample - loss: 0.1669 - acc: 0.9474\nEpoch 83/100\n  32/1102 [..............................] - ETA: 0s - loss: 0.1486 - acc: 0.9688\nEpoch 00083: saving model to checkpoints/weights.83.hdf5\n1102/1102 [==============================] - 0s 59us/sample - loss: 0.1659 - acc: 0.9474\nEpoch 84/100\n  32/1102 [..............................] - ETA: 0s - loss: 0.0952 - acc: 1.0000\nEpoch 00084: saving model to checkpoints/weights.84.hdf5\n1102/1102 [==============================] - 0s 60us/sample - loss: 0.1650 - acc: 0.9510\nEpoch 85/100\n  32/1102 [..............................] - ETA: 0s - loss: 0.0799 - acc: 0.9688\nEpoch 00085: saving model to checkpoints/weights.85.hdf5\n1102/1102 [==============================] - 0s 62us/sample - loss: 0.1634 - acc: 0.9492\nEpoch 86/100\n\nEpoch 00086: saving model to checkpoints/weights.86.hdf5\n  32/1102 [..............................] - ETA: 0s - loss: 0.1982 - acc: 0.9375\nEpoch 00086: saving model to checkpoints/weights.86.hdf5\n1102/1102 [==============================] - 0s 67us/sample - loss: 0.1641 - acc: 0.9483\nEpoch 87/100\n  32/1102 [..............................] - ETA: 0s - loss: 0.1087 - acc: 0.9688\nEpoch 00087: saving model to checkpoints/weights.87.hdf5\n1102/1102 [==============================] - 0s 58us/sample - loss: 0.1618 - acc: 0.9501\nEpoch 88/100\n  32/1102 [..............................] - ETA: 0s - loss: 0.3937 - acc: 0.9375\nEpoch 00088: saving model to checkpoints/weights.88.hdf5\n1102/1102 [==============================] - 0s 56us/sample - loss: 0.1604 - acc: 0.9501\nEpoch 89/100\n  32/1102 [..............................] - ETA: 0s - loss: 0.0478 - acc: 1.0000\nEpoch 00089: saving model to checkpoints/weights.89.hdf5\n1102/1102 [==============================] - 0s 57us/sample - loss: 0.1597 - acc: 0.9528\nEpoch 90/100\n  32/1102 [..............................] - ETA: 0s - loss: 0.1097 - acc: 0.9375\nEpoch 00090: saving model to checkpoints/weights.90.hdf5\n1102/1102 [==============================] - 0s 65us/sample - loss: 0.1587 - acc: 0.9501\nEpoch 91/100\n  32/1102 [..............................] - ETA: 0s - loss: 0.1987 - acc: 0.9375\nEpoch 00091: saving model to checkpoints/weights.91.hdf5\n1102/1102 [==============================] - 0s 65us/sample - loss: 0.1573 - acc: 0.9501\nEpoch 92/100\n  32/1102 [..............................] - ETA: 0s - loss: 0.1226 - acc: 0.9688\nEpoch 00092: saving model to checkpoints/weights.92.hdf5\n1102/1102 [==============================] - 0s 71us/sample - loss: 0.1557 - acc: 0.9537\nEpoch 93/100\n  32/1102 [..............................] - ETA: 0s - loss: 0.1456 - acc: 0.9375\nEpoch 00093: saving model to checkpoints/weights.93.hdf5\n1102/1102 [==============================] - 0s 62us/sample - loss: 0.1551 - acc: 0.9528\nEpoch 94/100\n  32/1102 [..............................] - ETA: 0s - loss: 0.1896 - acc: 0.9375\nEpoch 00094: saving model to checkpoints/weights.94.hdf5\n1102/1102 [==============================] - 0s 52us/sample - loss: 0.1540 - acc: 0.9564\nEpoch 95/100\n  32/1102 [..............................] - ETA: 0s - loss: 0.0653 - acc: 0.9688\nEpoch 00095: saving model to checkpoints/weights.95.hdf5\n1102/1102 [==============================] - 0s 60us/sample - loss: 0.1535 - acc: 0.9528\nEpoch 96/100\n  32/1102 [..............................] - ETA: 0s - loss: 0.0916 - acc: 0.9688\nEpoch 00096: saving model to checkpoints/weights.96.hdf5\n 832/1102 [=====================&gt;........] - ETA: 0s - loss: 0.1487 - acc: 0.9579\nEpoch 00096: saving model to checkpoints/weights.96.hdf5\n1102/1102 [==============================] - 0s 76us/sample - loss: 0.1514 - acc: 0.9555\nEpoch 97/100\n  32/1102 [..............................] - ETA: 0s - loss: 0.1316 - acc: 0.9688\nEpoch 00097: saving model to checkpoints/weights.97.hdf5\n1102/1102 [==============================] - 0s 58us/sample - loss: 0.1507 - acc: 0.9574\nEpoch 98/100\n  32/1102 [..............................] - ETA: 0s - loss: 0.2185 - acc: 0.9375\nEpoch 00098: saving model to checkpoints/weights.98.hdf5\n1102/1102 [==============================] - 0s 50us/sample - loss: 0.1498 - acc: 0.9555\nEpoch 99/100\n 608/1102 [===============&gt;..............] - ETA: 0s - loss: 0.1612 - acc: 0.9556\nEpoch 00099: saving model to checkpoints/weights.99.hdf5\n1102/1102 [==============================] - 0s 108us/sample - loss: 0.1489 - acc: 0.9574\nEpoch 100/100\n  32/1102 [..............................] - ETA: 0s - loss: 0.3473 - acc: 0.9062\nEpoch 00100: saving model to checkpoints/weights.100.hdf5\n1102/1102 [==============================] - 0s 74us/sample - loss: 0.1481 - acc: 0.9583\n368/368 - 0s - loss: 0.4529 - acc: 0.8668\nLoss: 0.4528515693610129, Accuracy: 0.866847813129425\n"
    }
   ],
   "source": [
    "# Compile the model\n",
    "nn.compile(loss=\"binary_crossentropy\", optimizer=\"adam\", metrics=[\"accuracy\"])\n",
    "\n",
    "# Create a callback that saves the model's weights every 5 epochs\n",
    "cp_callback = ModelCheckpoint(\n",
    "    filepath=checkpoint_path,\n",
    "    verbose=1,\n",
    "    save_weights_only=True,\n",
    "    save_freq=1000)\n",
    "\n",
    "# Train the model\n",
    "fit_model = nn.fit(X_train_scaled,y_train,epochs=100,callbacks=[cp_callback])\n",
    "\n",
    "# Evaluate the model using the test data\n",
    "model_loss, model_accuracy = nn.evaluate(X_test_scaled,y_test,verbose=2)\n",
    "print(f\"Loss: {model_loss}, Accuracy: {model_accuracy}\")"
   ]
  },
  {
   "cell_type": "code",
   "execution_count": 13,
   "metadata": {
    "tags": []
   },
   "outputs": [
    {
     "output_type": "stream",
     "name": "stdout",
     "text": "368/368 - 0s - loss: 0.4540 - acc: 0.8668\nLoss: 0.45401698909699917, Accuracy: 0.866847813129425\n"
    }
   ],
   "source": [
    "# Define the model - deep neural net\n",
    "number_input_features = len(X_train[0])\n",
    "hidden_nodes_layer1 =  8\n",
    "hidden_nodes_layer2 = 5\n",
    "\n",
    "nn_new = tf.keras.models.Sequential()\n",
    "\n",
    "# First hidden layer\n",
    "nn_new.add(\n",
    "    tf.keras.layers.Dense(units=hidden_nodes_layer1, input_dim=number_input_features, activation=\"relu\")\n",
    ")\n",
    "\n",
    "# Second hidden layer\n",
    "nn_new.add(tf.keras.layers.Dense(units=hidden_nodes_layer2, activation=\"relu\"))\n",
    "\n",
    "# Output layer\n",
    "nn_new.add(tf.keras.layers.Dense(units=1, activation=\"sigmoid\"))\n",
    "\n",
    "# Compile the model\n",
    "nn_new.compile(loss=\"binary_crossentropy\", optimizer=\"adam\", metrics=[\"accuracy\"])\n",
    "\n",
    "# Restore the model weights\n",
    "nn_new.load_weights(\"checkpoints/weights.100.hdf5\")\n",
    "\n",
    "# Evaluate the model using the test data\n",
    "model_loss, model_accuracy = nn_new.evaluate(X_test_scaled,y_test,verbose=2)\n",
    "print(f\"Loss: {model_loss}, Accuracy: {model_accuracy}\")"
   ]
  },
  {
   "cell_type": "code",
   "execution_count": 14,
   "metadata": {},
   "outputs": [],
   "source": [
    "# Export our model to HDF5 file\n",
    "nn_new.save(\"trained_attrition.h5\")"
   ]
  },
  {
   "cell_type": "code",
   "execution_count": 15,
   "metadata": {
    "tags": []
   },
   "outputs": [
    {
     "output_type": "stream",
     "name": "stdout",
     "text": "WARNING:tensorflow:From C:\\Users\\Mike\\anaconda3\\envs\\PythonData\\lib\\site-packages\\tensorflow\\python\\ops\\init_ops.py:97: calling GlorotUniform.__init__ (from tensorflow.python.ops.init_ops) with dtype is deprecated and will be removed in a future version.\nInstructions for updating:\nCall initializer instance with the dtype argument instead of passing it to the constructor\nWARNING:tensorflow:From C:\\Users\\Mike\\anaconda3\\envs\\PythonData\\lib\\site-packages\\tensorflow\\python\\ops\\init_ops.py:97: calling Zeros.__init__ (from tensorflow.python.ops.init_ops) with dtype is deprecated and will be removed in a future version.\nInstructions for updating:\nCall initializer instance with the dtype argument instead of passing it to the constructor\n"
    }
   ],
   "source": [
    "# Import the model to a new object\n",
    "nn_imported = tf.keras.models.load_model('trained_attrition.h5')"
   ]
  },
  {
   "cell_type": "code",
   "execution_count": 16,
   "metadata": {
    "tags": []
   },
   "outputs": [
    {
     "output_type": "stream",
     "name": "stdout",
     "text": "368/368 - 0s - loss: 0.4540 - acc: 0.8668\nLoss: 0.45401698909699917, Accuracy: 0.866847813129425\n"
    }
   ],
   "source": [
    "# Evaluate the model using the test data\n",
    "model_loss, model_accuracy = nn_new.evaluate(X_test_scaled,y_test,verbose=2)\n",
    "print(f\"Loss: {model_loss}, Accuracy: {model_accuracy}\")"
   ]
  },
  {
   "cell_type": "code",
   "execution_count": null,
   "metadata": {},
   "outputs": [],
   "source": []
  }
 ]
}