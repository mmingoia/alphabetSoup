{
 "metadata": {
  "language_info": {
   "codemirror_mode": {
    "name": "ipython",
    "version": 3
   },
   "file_extension": ".py",
   "mimetype": "text/x-python",
   "name": "python",
   "nbconvert_exporter": "python",
   "pygments_lexer": "ipython3",
   "version": "3.7.7-final"
  },
  "orig_nbformat": 2,
  "kernelspec": {
   "name": "Python 3.7.7 64-bit ('PythonData': conda)",
   "display_name": "Python 3.7.7 64-bit ('PythonData': conda)",
   "metadata": {
    "interpreter": {
     "hash": "8eb93c95bd66bb1c37e84a7a0539426e5182ed0a06a9d52f414e0eeb4198a997"
    }
   }
  }
 },
 "nbformat": 4,
 "nbformat_minor": 2,
 "cells": [
  {
   "cell_type": "code",
   "execution_count": 1,
   "metadata": {},
   "outputs": [
    {
     "output_type": "execute_result",
     "data": {
      "text/plain": "   Age       Job Marital_Status               Education Default_Credit  \\\n0   56     other        married       Primary_Education             no   \n1   37  services        married     Secondary_Education             no   \n2   40     admin        married       Primary_Education             no   \n3   56  services        married     Secondary_Education             no   \n4   59     admin        married  Professional_Education             no   \n\n  Housing_Loan Personal_Loan Subscribed  \n0           no            no         no  \n1          yes            no         no  \n2           no            no         no  \n3           no           yes         no  \n4           no            no         no  ",
      "text/html": "<div>\n<style scoped>\n    .dataframe tbody tr th:only-of-type {\n        vertical-align: middle;\n    }\n\n    .dataframe tbody tr th {\n        vertical-align: top;\n    }\n\n    .dataframe thead th {\n        text-align: right;\n    }\n</style>\n<table border=\"1\" class=\"dataframe\">\n  <thead>\n    <tr style=\"text-align: right;\">\n      <th></th>\n      <th>Age</th>\n      <th>Job</th>\n      <th>Marital_Status</th>\n      <th>Education</th>\n      <th>Default_Credit</th>\n      <th>Housing_Loan</th>\n      <th>Personal_Loan</th>\n      <th>Subscribed</th>\n    </tr>\n  </thead>\n  <tbody>\n    <tr>\n      <th>0</th>\n      <td>56</td>\n      <td>other</td>\n      <td>married</td>\n      <td>Primary_Education</td>\n      <td>no</td>\n      <td>no</td>\n      <td>no</td>\n      <td>no</td>\n    </tr>\n    <tr>\n      <th>1</th>\n      <td>37</td>\n      <td>services</td>\n      <td>married</td>\n      <td>Secondary_Education</td>\n      <td>no</td>\n      <td>yes</td>\n      <td>no</td>\n      <td>no</td>\n    </tr>\n    <tr>\n      <th>2</th>\n      <td>40</td>\n      <td>admin</td>\n      <td>married</td>\n      <td>Primary_Education</td>\n      <td>no</td>\n      <td>no</td>\n      <td>no</td>\n      <td>no</td>\n    </tr>\n    <tr>\n      <th>3</th>\n      <td>56</td>\n      <td>services</td>\n      <td>married</td>\n      <td>Secondary_Education</td>\n      <td>no</td>\n      <td>no</td>\n      <td>yes</td>\n      <td>no</td>\n    </tr>\n    <tr>\n      <th>4</th>\n      <td>59</td>\n      <td>admin</td>\n      <td>married</td>\n      <td>Professional_Education</td>\n      <td>no</td>\n      <td>no</td>\n      <td>no</td>\n      <td>no</td>\n    </tr>\n  </tbody>\n</table>\n</div>"
     },
     "metadata": {},
     "execution_count": 1
    }
   ],
   "source": [
    "# Import our dependencies\n",
    "from sklearn.model_selection import train_test_split\n",
    "from sklearn.preprocessing import StandardScaler,OneHotEncoder\n",
    "from sklearn.metrics import accuracy_score\n",
    "from sklearn.svm import SVC\n",
    "import pandas as pd\n",
    "import tensorflow as tf\n",
    "\n",
    "# Import our input dataset\n",
    "tele_df = pd.read_csv('bank_telemarketing.csv')\n",
    "tele_df.head()"
   ]
  },
  {
   "cell_type": "code",
   "execution_count": 2,
   "metadata": {},
   "outputs": [
    {
     "output_type": "execute_result",
     "data": {
      "text/plain": "Job               9\nMarital_Status    3\nEducation         4\nDefault_Credit    2\nHousing_Loan      2\nPersonal_Loan     2\nSubscribed        2\ndtype: int64"
     },
     "metadata": {},
     "execution_count": 2
    }
   ],
   "source": [
    "# Generate our categorical variable list\n",
    "tele_cat = tele_df.dtypes[tele_df.dtypes == \"object\"].index.tolist()\n",
    "\n",
    "\n",
    "# Check the number of unique values in each column\n",
    "tele_df[tele_cat].nunique()"
   ]
  },
  {
   "cell_type": "code",
   "execution_count": 3,
   "metadata": {},
   "outputs": [
    {
     "output_type": "execute_result",
     "data": {
      "text/plain": "   Job_admin  Job_blue-collar  Job_entrepreneur  Job_management  Job_other  \\\n0        0.0              0.0               0.0             0.0        1.0   \n1        0.0              0.0               0.0             0.0        0.0   \n2        1.0              0.0               0.0             0.0        0.0   \n3        0.0              0.0               0.0             0.0        0.0   \n4        1.0              0.0               0.0             0.0        0.0   \n\n   Job_retired  Job_self-employed  Job_services  Job_technician  \\\n0          0.0                0.0           0.0             0.0   \n1          0.0                0.0           1.0             0.0   \n2          0.0                0.0           0.0             0.0   \n3          0.0                0.0           1.0             0.0   \n4          0.0                0.0           0.0             0.0   \n\n   Marital_Status_divorced  ...  Education_Secondary_Education  \\\n0                      0.0  ...                            0.0   \n1                      0.0  ...                            1.0   \n2                      0.0  ...                            0.0   \n3                      0.0  ...                            1.0   \n4                      0.0  ...                            0.0   \n\n   Education_Tertiary_Education  Default_Credit_no  Default_Credit_yes  \\\n0                           0.0                1.0                 0.0   \n1                           0.0                1.0                 0.0   \n2                           0.0                1.0                 0.0   \n3                           0.0                1.0                 0.0   \n4                           0.0                1.0                 0.0   \n\n   Housing_Loan_no  Housing_Loan_yes  Personal_Loan_no  Personal_Loan_yes  \\\n0              1.0               0.0               1.0                0.0   \n1              0.0               1.0               1.0                0.0   \n2              1.0               0.0               1.0                0.0   \n3              1.0               0.0               0.0                1.0   \n4              1.0               0.0               1.0                0.0   \n\n   Subscribed_no  Subscribed_yes  \n0            1.0             0.0  \n1            1.0             0.0  \n2            1.0             0.0  \n3            1.0             0.0  \n4            1.0             0.0  \n\n[5 rows x 24 columns]",
      "text/html": "<div>\n<style scoped>\n    .dataframe tbody tr th:only-of-type {\n        vertical-align: middle;\n    }\n\n    .dataframe tbody tr th {\n        vertical-align: top;\n    }\n\n    .dataframe thead th {\n        text-align: right;\n    }\n</style>\n<table border=\"1\" class=\"dataframe\">\n  <thead>\n    <tr style=\"text-align: right;\">\n      <th></th>\n      <th>Job_admin</th>\n      <th>Job_blue-collar</th>\n      <th>Job_entrepreneur</th>\n      <th>Job_management</th>\n      <th>Job_other</th>\n      <th>Job_retired</th>\n      <th>Job_self-employed</th>\n      <th>Job_services</th>\n      <th>Job_technician</th>\n      <th>Marital_Status_divorced</th>\n      <th>...</th>\n      <th>Education_Secondary_Education</th>\n      <th>Education_Tertiary_Education</th>\n      <th>Default_Credit_no</th>\n      <th>Default_Credit_yes</th>\n      <th>Housing_Loan_no</th>\n      <th>Housing_Loan_yes</th>\n      <th>Personal_Loan_no</th>\n      <th>Personal_Loan_yes</th>\n      <th>Subscribed_no</th>\n      <th>Subscribed_yes</th>\n    </tr>\n  </thead>\n  <tbody>\n    <tr>\n      <th>0</th>\n      <td>0.0</td>\n      <td>0.0</td>\n      <td>0.0</td>\n      <td>0.0</td>\n      <td>1.0</td>\n      <td>0.0</td>\n      <td>0.0</td>\n      <td>0.0</td>\n      <td>0.0</td>\n      <td>0.0</td>\n      <td>...</td>\n      <td>0.0</td>\n      <td>0.0</td>\n      <td>1.0</td>\n      <td>0.0</td>\n      <td>1.0</td>\n      <td>0.0</td>\n      <td>1.0</td>\n      <td>0.0</td>\n      <td>1.0</td>\n      <td>0.0</td>\n    </tr>\n    <tr>\n      <th>1</th>\n      <td>0.0</td>\n      <td>0.0</td>\n      <td>0.0</td>\n      <td>0.0</td>\n      <td>0.0</td>\n      <td>0.0</td>\n      <td>0.0</td>\n      <td>1.0</td>\n      <td>0.0</td>\n      <td>0.0</td>\n      <td>...</td>\n      <td>1.0</td>\n      <td>0.0</td>\n      <td>1.0</td>\n      <td>0.0</td>\n      <td>0.0</td>\n      <td>1.0</td>\n      <td>1.0</td>\n      <td>0.0</td>\n      <td>1.0</td>\n      <td>0.0</td>\n    </tr>\n    <tr>\n      <th>2</th>\n      <td>1.0</td>\n      <td>0.0</td>\n      <td>0.0</td>\n      <td>0.0</td>\n      <td>0.0</td>\n      <td>0.0</td>\n      <td>0.0</td>\n      <td>0.0</td>\n      <td>0.0</td>\n      <td>0.0</td>\n      <td>...</td>\n      <td>0.0</td>\n      <td>0.0</td>\n      <td>1.0</td>\n      <td>0.0</td>\n      <td>1.0</td>\n      <td>0.0</td>\n      <td>1.0</td>\n      <td>0.0</td>\n      <td>1.0</td>\n      <td>0.0</td>\n    </tr>\n    <tr>\n      <th>3</th>\n      <td>0.0</td>\n      <td>0.0</td>\n      <td>0.0</td>\n      <td>0.0</td>\n      <td>0.0</td>\n      <td>0.0</td>\n      <td>0.0</td>\n      <td>1.0</td>\n      <td>0.0</td>\n      <td>0.0</td>\n      <td>...</td>\n      <td>1.0</td>\n      <td>0.0</td>\n      <td>1.0</td>\n      <td>0.0</td>\n      <td>1.0</td>\n      <td>0.0</td>\n      <td>0.0</td>\n      <td>1.0</td>\n      <td>1.0</td>\n      <td>0.0</td>\n    </tr>\n    <tr>\n      <th>4</th>\n      <td>1.0</td>\n      <td>0.0</td>\n      <td>0.0</td>\n      <td>0.0</td>\n      <td>0.0</td>\n      <td>0.0</td>\n      <td>0.0</td>\n      <td>0.0</td>\n      <td>0.0</td>\n      <td>0.0</td>\n      <td>...</td>\n      <td>0.0</td>\n      <td>0.0</td>\n      <td>1.0</td>\n      <td>0.0</td>\n      <td>1.0</td>\n      <td>0.0</td>\n      <td>1.0</td>\n      <td>0.0</td>\n      <td>1.0</td>\n      <td>0.0</td>\n    </tr>\n  </tbody>\n</table>\n<p>5 rows × 24 columns</p>\n</div>"
     },
     "metadata": {},
     "execution_count": 3
    }
   ],
   "source": [
    "# Create a OneHotEncoder instance\n",
    "enc = OneHotEncoder(sparse=False)\n",
    "\n",
    "# Fit and transform the OneHotEncoder using the categorical variable list\n",
    "encode_df = pd.DataFrame(enc.fit_transform(tele_df[tele_cat]))\n",
    "\n",
    "# Add the encoded variable names to the dataframe\n",
    "encode_df.columns = enc.get_feature_names(tele_cat)\n",
    "encode_df.head()"
   ]
  },
  {
   "cell_type": "code",
   "execution_count": 4,
   "metadata": {},
   "outputs": [
    {
     "output_type": "execute_result",
     "data": {
      "text/plain": "   Age  Job_admin  Job_blue-collar  Job_entrepreneur  Job_management  \\\n0   56        0.0              0.0               0.0             0.0   \n1   37        0.0              0.0               0.0             0.0   \n2   40        1.0              0.0               0.0             0.0   \n3   56        0.0              0.0               0.0             0.0   \n4   59        1.0              0.0               0.0             0.0   \n\n   Job_other  Job_retired  Job_self-employed  Job_services  Job_technician  \\\n0        1.0          0.0                0.0           0.0             0.0   \n1        0.0          0.0                0.0           1.0             0.0   \n2        0.0          0.0                0.0           0.0             0.0   \n3        0.0          0.0                0.0           1.0             0.0   \n4        0.0          0.0                0.0           0.0             0.0   \n\n   ...  Education_Secondary_Education  Education_Tertiary_Education  \\\n0  ...                            0.0                           0.0   \n1  ...                            1.0                           0.0   \n2  ...                            0.0                           0.0   \n3  ...                            1.0                           0.0   \n4  ...                            0.0                           0.0   \n\n   Default_Credit_no  Default_Credit_yes  Housing_Loan_no  Housing_Loan_yes  \\\n0                1.0                 0.0              1.0               0.0   \n1                1.0                 0.0              0.0               1.0   \n2                1.0                 0.0              1.0               0.0   \n3                1.0                 0.0              1.0               0.0   \n4                1.0                 0.0              1.0               0.0   \n\n   Personal_Loan_no  Personal_Loan_yes  Subscribed_no  Subscribed_yes  \n0               1.0                0.0            1.0             0.0  \n1               1.0                0.0            1.0             0.0  \n2               1.0                0.0            1.0             0.0  \n3               0.0                1.0            1.0             0.0  \n4               1.0                0.0            1.0             0.0  \n\n[5 rows x 25 columns]",
      "text/html": "<div>\n<style scoped>\n    .dataframe tbody tr th:only-of-type {\n        vertical-align: middle;\n    }\n\n    .dataframe tbody tr th {\n        vertical-align: top;\n    }\n\n    .dataframe thead th {\n        text-align: right;\n    }\n</style>\n<table border=\"1\" class=\"dataframe\">\n  <thead>\n    <tr style=\"text-align: right;\">\n      <th></th>\n      <th>Age</th>\n      <th>Job_admin</th>\n      <th>Job_blue-collar</th>\n      <th>Job_entrepreneur</th>\n      <th>Job_management</th>\n      <th>Job_other</th>\n      <th>Job_retired</th>\n      <th>Job_self-employed</th>\n      <th>Job_services</th>\n      <th>Job_technician</th>\n      <th>...</th>\n      <th>Education_Secondary_Education</th>\n      <th>Education_Tertiary_Education</th>\n      <th>Default_Credit_no</th>\n      <th>Default_Credit_yes</th>\n      <th>Housing_Loan_no</th>\n      <th>Housing_Loan_yes</th>\n      <th>Personal_Loan_no</th>\n      <th>Personal_Loan_yes</th>\n      <th>Subscribed_no</th>\n      <th>Subscribed_yes</th>\n    </tr>\n  </thead>\n  <tbody>\n    <tr>\n      <th>0</th>\n      <td>56</td>\n      <td>0.0</td>\n      <td>0.0</td>\n      <td>0.0</td>\n      <td>0.0</td>\n      <td>1.0</td>\n      <td>0.0</td>\n      <td>0.0</td>\n      <td>0.0</td>\n      <td>0.0</td>\n      <td>...</td>\n      <td>0.0</td>\n      <td>0.0</td>\n      <td>1.0</td>\n      <td>0.0</td>\n      <td>1.0</td>\n      <td>0.0</td>\n      <td>1.0</td>\n      <td>0.0</td>\n      <td>1.0</td>\n      <td>0.0</td>\n    </tr>\n    <tr>\n      <th>1</th>\n      <td>37</td>\n      <td>0.0</td>\n      <td>0.0</td>\n      <td>0.0</td>\n      <td>0.0</td>\n      <td>0.0</td>\n      <td>0.0</td>\n      <td>0.0</td>\n      <td>1.0</td>\n      <td>0.0</td>\n      <td>...</td>\n      <td>1.0</td>\n      <td>0.0</td>\n      <td>1.0</td>\n      <td>0.0</td>\n      <td>0.0</td>\n      <td>1.0</td>\n      <td>1.0</td>\n      <td>0.0</td>\n      <td>1.0</td>\n      <td>0.0</td>\n    </tr>\n    <tr>\n      <th>2</th>\n      <td>40</td>\n      <td>1.0</td>\n      <td>0.0</td>\n      <td>0.0</td>\n      <td>0.0</td>\n      <td>0.0</td>\n      <td>0.0</td>\n      <td>0.0</td>\n      <td>0.0</td>\n      <td>0.0</td>\n      <td>...</td>\n      <td>0.0</td>\n      <td>0.0</td>\n      <td>1.0</td>\n      <td>0.0</td>\n      <td>1.0</td>\n      <td>0.0</td>\n      <td>1.0</td>\n      <td>0.0</td>\n      <td>1.0</td>\n      <td>0.0</td>\n    </tr>\n    <tr>\n      <th>3</th>\n      <td>56</td>\n      <td>0.0</td>\n      <td>0.0</td>\n      <td>0.0</td>\n      <td>0.0</td>\n      <td>0.0</td>\n      <td>0.0</td>\n      <td>0.0</td>\n      <td>1.0</td>\n      <td>0.0</td>\n      <td>...</td>\n      <td>1.0</td>\n      <td>0.0</td>\n      <td>1.0</td>\n      <td>0.0</td>\n      <td>1.0</td>\n      <td>0.0</td>\n      <td>0.0</td>\n      <td>1.0</td>\n      <td>1.0</td>\n      <td>0.0</td>\n    </tr>\n    <tr>\n      <th>4</th>\n      <td>59</td>\n      <td>1.0</td>\n      <td>0.0</td>\n      <td>0.0</td>\n      <td>0.0</td>\n      <td>0.0</td>\n      <td>0.0</td>\n      <td>0.0</td>\n      <td>0.0</td>\n      <td>0.0</td>\n      <td>...</td>\n      <td>0.0</td>\n      <td>0.0</td>\n      <td>1.0</td>\n      <td>0.0</td>\n      <td>1.0</td>\n      <td>0.0</td>\n      <td>1.0</td>\n      <td>0.0</td>\n      <td>1.0</td>\n      <td>0.0</td>\n    </tr>\n  </tbody>\n</table>\n<p>5 rows × 25 columns</p>\n</div>"
     },
     "metadata": {},
     "execution_count": 4
    }
   ],
   "source": [
    "# Merge one-hot encoded features and drop the originals\n",
    "tele_df = tele_df.merge(encode_df,left_index=True, right_index=True)\n",
    "tele_df = tele_df.drop(tele_cat,1)\n",
    "tele_df.head()"
   ]
  },
  {
   "cell_type": "code",
   "execution_count": 5,
   "metadata": {},
   "outputs": [],
   "source": [
    "# Remove loan status target from features data\n",
    "y = tele_df.Subscribed_yes.values\n",
    "X = tele_df.drop(columns=[\"Subscribed_no\",\"Subscribed_yes\"]).values\n",
    "\n",
    "# Split training/test datasets\n",
    "X_train, X_test, y_train, y_test = train_test_split(X, y, random_state=42, stratify=y)\n",
    "\n",
    "# Create a StandardScaler instance\n",
    "scaler = StandardScaler()\n",
    "\n",
    "# Fit the StandardScaler\n",
    "X_scaler = scaler.fit(X_train)\n",
    "\n",
    "# Scale the data\n",
    "X_train_scaled = X_scaler.transform(X_train)\n",
    "X_test_scaled = X_scaler.transform(X_test)"
   ]
  },
  {
   "cell_type": "code",
   "execution_count": 6,
   "metadata": {},
   "outputs": [],
   "source": [
    "# Create the SVM model\n",
    "svm = SVC(kernel='linear')"
   ]
  },
  {
   "cell_type": "code",
   "execution_count": 7,
   "metadata": {},
   "outputs": [
    {
     "output_type": "execute_result",
     "data": {
      "text/plain": "SVC(kernel=&#39;linear&#39;)"
     },
     "metadata": {},
     "execution_count": 7
    }
   ],
   "source": [
    "# Train the model\n",
    "svm.fit(X_train, y_train)"
   ]
  },
  {
   "cell_type": "code",
   "execution_count": 8,
   "metadata": {
    "tags": []
   },
   "outputs": [
    {
     "output_type": "stream",
     "name": "stdout",
     "text": " SVM model accuracy: 0.873\n"
    }
   ],
   "source": [
    "# Evaluate the model\n",
    "y_pred = svm.predict(X_test_scaled)\n",
    "print(f\" SVM model accuracy: {accuracy_score(y_test,y_pred):.3f}\")"
   ]
  },
  {
   "cell_type": "code",
   "execution_count": 10,
   "metadata": {
    "tags": []
   },
   "outputs": [],
   "source": [
    "# Define the model - deep neural net\n",
    "number_input_features = len(X_train_scaled[0])\n",
    "hidden_nodes_layer1 =  10\n",
    "hidden_nodes_layer2 = 5\n",
    "\n",
    "nn = tf.keras.models.Sequential()\n",
    "\n",
    "# First hidden layer\n",
    "nn.add(\n",
    "    tf.keras.layers.Dense(units=hidden_nodes_layer1, input_dim=number_input_features, activation=\"relu\")\n",
    ")\n",
    "\n",
    "# Second hidden layer\n",
    "nn.add(tf.keras.layers.Dense(units=hidden_nodes_layer2, activation=\"relu\"))\n",
    "\n",
    "\n",
    "# Output layer\n",
    "nn.add(tf.keras.layers.Dense(units=1, activation=\"sigmoid\"))\n",
    "\n",
    "# Compile the Sequential model together and customize metrics\n",
    "nn.compile(loss=\"binary_crossentropy\", optimizer=\"adam\", metrics=[\"accuracy\"])"
   ]
  },
  {
   "cell_type": "code",
   "execution_count": 12,
   "metadata": {
    "tags": []
   },
   "outputs": [
    {
     "output_type": "stream",
     "name": "stdout",
     "text": "Epoch 1/50\n22857/22857 [==============================] - 2s 74us/sample - loss: 0.4153 - acc: 0.8582\nEpoch 2/50\n22857/22857 [==============================] - 1s 50us/sample - loss: 0.3724 - acc: 0.8735\nEpoch 3/50\n22857/22857 [==============================] - 1s 44us/sample - loss: 0.3701 - acc: 0.8735\nEpoch 4/50\n22857/22857 [==============================] - 1s 39us/sample - loss: 0.3688 - acc: 0.8735\nEpoch 5/50\n22857/22857 [==============================] - 1s 39us/sample - loss: 0.3678 - acc: 0.8735\nEpoch 6/50\n22857/22857 [==============================] - 1s 36us/sample - loss: 0.3667 - acc: 0.8735\nEpoch 7/50\n22857/22857 [==============================] - 1s 39us/sample - loss: 0.3664 - acc: 0.8733\nEpoch 8/50\n22857/22857 [==============================] - 1s 38us/sample - loss: 0.3657 - acc: 0.8735\nEpoch 9/50\n22857/22857 [==============================] - 1s 36us/sample - loss: 0.3655 - acc: 0.8735\nEpoch 10/50\n22857/22857 [==============================] - 1s 36us/sample - loss: 0.3648 - acc: 0.8733\nEpoch 11/50\n22857/22857 [==============================] - 1s 38us/sample - loss: 0.3647 - acc: 0.8737\nEpoch 12/50\n22857/22857 [==============================] - 1s 38us/sample - loss: 0.3641 - acc: 0.8735\nEpoch 13/50\n22857/22857 [==============================] - 1s 36us/sample - loss: 0.3642 - acc: 0.8731\nEpoch 14/50\n22857/22857 [==============================] - 1s 36us/sample - loss: 0.3639 - acc: 0.8730\nEpoch 15/50\n22857/22857 [==============================] - 1s 36us/sample - loss: 0.3637 - acc: 0.8735\nEpoch 16/50\n22857/22857 [==============================] - 1s 36us/sample - loss: 0.3634 - acc: 0.8734\nEpoch 17/50\n22857/22857 [==============================] - 1s 37us/sample - loss: 0.3632 - acc: 0.8737\nEpoch 18/50\n22857/22857 [==============================] - 1s 39us/sample - loss: 0.3634 - acc: 0.8740\nEpoch 19/50\n22857/22857 [==============================] - 1s 37us/sample - loss: 0.3632 - acc: 0.8733\nEpoch 20/50\n22857/22857 [==============================] - 1s 40us/sample - loss: 0.3627 - acc: 0.8737\nEpoch 21/50\n22857/22857 [==============================] - 1s 46us/sample - loss: 0.3628 - acc: 0.8736\nEpoch 22/50\n22857/22857 [==============================] - 1s 46us/sample - loss: 0.3628 - acc: 0.8734\nEpoch 23/50\n22857/22857 [==============================] - 1s 38us/sample - loss: 0.3624 - acc: 0.8738\nEpoch 24/50\n22857/22857 [==============================] - 1s 39us/sample - loss: 0.3625 - acc: 0.8743\nEpoch 25/50\n22857/22857 [==============================] - 1s 41us/sample - loss: 0.3621 - acc: 0.8741\nEpoch 26/50\n22857/22857 [==============================] - 1s 37us/sample - loss: 0.3622 - acc: 0.8741\nEpoch 27/50\n22857/22857 [==============================] - 1s 36us/sample - loss: 0.3620 - acc: 0.8740\nEpoch 28/50\n22857/22857 [==============================] - 1s 35us/sample - loss: 0.3616 - acc: 0.8740\nEpoch 29/50\n22857/22857 [==============================] - 1s 38us/sample - loss: 0.3617 - acc: 0.8738\nEpoch 30/50\n22857/22857 [==============================] - 1s 36us/sample - loss: 0.3618 - acc: 0.8735\nEpoch 31/50\n22857/22857 [==============================] - 1s 38us/sample - loss: 0.3615 - acc: 0.8738\nEpoch 32/50\n22857/22857 [==============================] - 1s 35us/sample - loss: 0.3617 - acc: 0.8739\nEpoch 33/50\n22857/22857 [==============================] - 1s 38us/sample - loss: 0.3616 - acc: 0.8743\nEpoch 34/50\n22857/22857 [==============================] - 1s 37us/sample - loss: 0.3614 - acc: 0.8740\nEpoch 35/50\n22857/22857 [==============================] - 1s 37us/sample - loss: 0.3613 - acc: 0.8738\nEpoch 36/50\n22857/22857 [==============================] - 1s 37us/sample - loss: 0.3615 - acc: 0.8736\nEpoch 37/50\n22857/22857 [==============================] - 1s 36us/sample - loss: 0.3613 - acc: 0.8743\nEpoch 38/50\n22857/22857 [==============================] - 1s 36us/sample - loss: 0.3611 - acc: 0.8737\nEpoch 39/50\n22857/22857 [==============================] - 1s 35us/sample - loss: 0.3612 - acc: 0.8736\nEpoch 40/50\n22857/22857 [==============================] - 1s 37us/sample - loss: 0.3611 - acc: 0.8738\nEpoch 41/50\n22857/22857 [==============================] - 1s 35us/sample - loss: 0.3608 - acc: 0.8738\nEpoch 42/50\n22857/22857 [==============================] - 1s 37us/sample - loss: 0.3607 - acc: 0.8737\nEpoch 43/50\n22857/22857 [==============================] - 1s 37us/sample - loss: 0.3611 - acc: 0.8741\nEpoch 44/50\n22857/22857 [==============================] - 1s 42us/sample - loss: 0.3610 - acc: 0.8738\nEpoch 45/50\n22857/22857 [==============================] - 1s 43us/sample - loss: 0.3608 - acc: 0.8741\nEpoch 46/50\n22857/22857 [==============================] - 1s 36us/sample - loss: 0.3609 - acc: 0.8740\nEpoch 47/50\n22857/22857 [==============================] - 1s 36us/sample - loss: 0.3607 - acc: 0.8741\nEpoch 48/50\n22857/22857 [==============================] - 1s 35us/sample - loss: 0.3608 - acc: 0.8737\nEpoch 49/50\n22857/22857 [==============================] - 1s 36us/sample - loss: 0.3607 - acc: 0.8739\nEpoch 50/50\n22857/22857 [==============================] - 1s 37us/sample - loss: 0.3605 - acc: 0.8736\n7620/7620 - 0s - loss: 0.3688 - acc: 0.8723\nLoss: 0.368820265084114, Accuracy: 0.872309684753418\n"
    }
   ],
   "source": [
    "# Train the model \n",
    "fit_model = nn.fit(X_train_scaled, y_train, epochs=50) \n",
    "# Evaluate the model using the test data \n",
    "model_loss, model_accuracy = nn.evaluate(X_test_scaled,y_test,verbose=2)\n",
    "print(f\"Loss: {model_loss}, Accuracy: {model_accuracy}\")"
   ]
  },
  {
   "cell_type": "code",
   "execution_count": null,
   "metadata": {},
   "outputs": [],
   "source": []
  }
 ]
}