{
 "metadata": {
  "language_info": {
   "codemirror_mode": {
    "name": "ipython",
    "version": 3
   },
   "file_extension": ".py",
   "mimetype": "text/x-python",
   "name": "python",
   "nbconvert_exporter": "python",
   "pygments_lexer": "ipython3",
   "version": "3.7.7-final"
  },
  "orig_nbformat": 2,
  "kernelspec": {
   "name": "Python 3.7.7 64-bit ('PythonData': conda)",
   "display_name": "Python 3.7.7 64-bit ('PythonData': conda)",
   "metadata": {
    "interpreter": {
     "hash": "8eb93c95bd66bb1c37e84a7a0539426e5182ed0a06a9d52f414e0eeb4198a997"
    }
   }
  }
 },
 "nbformat": 4,
 "nbformat_minor": 2,
 "cells": [
  {
   "cell_type": "code",
   "execution_count": 4,
   "metadata": {},
   "outputs": [],
   "source": [
    "import pandas as pd\n",
    "import matplotlib as plt\n",
    "import sklearn as skl\n",
    "import tensorflow as tf\n",
    "from sklearn.model_selection import train_test_split\n",
    "from sklearn.preprocessing import StandardScaler,OneHotEncoder\n",
    "from sklearn.linear_model import LogisticRegression\n",
    "from sklearn.metrics import accuracy_score"
   ]
  },
  {
   "cell_type": "code",
   "execution_count": 5,
   "metadata": {},
   "outputs": [
    {
     "output_type": "execute_result",
     "data": {
      "text/plain": [
       "        EIN                                      NAME APPLICATION_TYPE  \\\n",
       "0  10520599              BLUE KNIGHTS MOTORCYCLE CLUB              T10   \n",
       "1  10531628    AMERICAN CHESAPEAKE CLUB CHARITABLE TR               T3   \n",
       "2  10547893        ST CLOUD PROFESSIONAL FIREFIGHTERS               T5   \n",
       "3  10553066            SOUTHSIDE ATHLETIC ASSOCIATION               T3   \n",
       "4  10556103  GENETIC RESEARCH INSTITUTE OF THE DESERT               T3   \n",
       "\n",
       "        AFFILIATION CLASSIFICATION      USE_CASE  ORGANIZATION  STATUS  \\\n",
       "0       Independent          C1000    ProductDev   Association       1   \n",
       "1       Independent          C2000  Preservation  Co-operative       1   \n",
       "2  CompanySponsored          C3000    ProductDev   Association       1   \n",
       "3  CompanySponsored          C2000  Preservation         Trust       1   \n",
       "4       Independent          C1000     Heathcare         Trust       1   \n",
       "\n",
       "      INCOME_AMT SPECIAL_CONSIDERATIONS  ASK_AMT  IS_SUCCESSFUL  \n",
       "0              0                      N     5000              1  \n",
       "1         1-9999                      N   108590              1  \n",
       "2              0                      N     5000              0  \n",
       "3    10000-24999                      N     6692              1  \n",
       "4  100000-499999                      N   142590              1  "
      ],
      "text/html": "<div>\n<style scoped>\n    .dataframe tbody tr th:only-of-type {\n        vertical-align: middle;\n    }\n\n    .dataframe tbody tr th {\n        vertical-align: top;\n    }\n\n    .dataframe thead th {\n        text-align: right;\n    }\n</style>\n<table border=\"1\" class=\"dataframe\">\n  <thead>\n    <tr style=\"text-align: right;\">\n      <th></th>\n      <th>EIN</th>\n      <th>NAME</th>\n      <th>APPLICATION_TYPE</th>\n      <th>AFFILIATION</th>\n      <th>CLASSIFICATION</th>\n      <th>USE_CASE</th>\n      <th>ORGANIZATION</th>\n      <th>STATUS</th>\n      <th>INCOME_AMT</th>\n      <th>SPECIAL_CONSIDERATIONS</th>\n      <th>ASK_AMT</th>\n      <th>IS_SUCCESSFUL</th>\n    </tr>\n  </thead>\n  <tbody>\n    <tr>\n      <th>0</th>\n      <td>10520599</td>\n      <td>BLUE KNIGHTS MOTORCYCLE CLUB</td>\n      <td>T10</td>\n      <td>Independent</td>\n      <td>C1000</td>\n      <td>ProductDev</td>\n      <td>Association</td>\n      <td>1</td>\n      <td>0</td>\n      <td>N</td>\n      <td>5000</td>\n      <td>1</td>\n    </tr>\n    <tr>\n      <th>1</th>\n      <td>10531628</td>\n      <td>AMERICAN CHESAPEAKE CLUB CHARITABLE TR</td>\n      <td>T3</td>\n      <td>Independent</td>\n      <td>C2000</td>\n      <td>Preservation</td>\n      <td>Co-operative</td>\n      <td>1</td>\n      <td>1-9999</td>\n      <td>N</td>\n      <td>108590</td>\n      <td>1</td>\n    </tr>\n    <tr>\n      <th>2</th>\n      <td>10547893</td>\n      <td>ST CLOUD PROFESSIONAL FIREFIGHTERS</td>\n      <td>T5</td>\n      <td>CompanySponsored</td>\n      <td>C3000</td>\n      <td>ProductDev</td>\n      <td>Association</td>\n      <td>1</td>\n      <td>0</td>\n      <td>N</td>\n      <td>5000</td>\n      <td>0</td>\n    </tr>\n    <tr>\n      <th>3</th>\n      <td>10553066</td>\n      <td>SOUTHSIDE ATHLETIC ASSOCIATION</td>\n      <td>T3</td>\n      <td>CompanySponsored</td>\n      <td>C2000</td>\n      <td>Preservation</td>\n      <td>Trust</td>\n      <td>1</td>\n      <td>10000-24999</td>\n      <td>N</td>\n      <td>6692</td>\n      <td>1</td>\n    </tr>\n    <tr>\n      <th>4</th>\n      <td>10556103</td>\n      <td>GENETIC RESEARCH INSTITUTE OF THE DESERT</td>\n      <td>T3</td>\n      <td>Independent</td>\n      <td>C1000</td>\n      <td>Heathcare</td>\n      <td>Trust</td>\n      <td>1</td>\n      <td>100000-499999</td>\n      <td>N</td>\n      <td>142590</td>\n      <td>1</td>\n    </tr>\n  </tbody>\n</table>\n</div>"
     },
     "metadata": {},
     "execution_count": 5
    }
   ],
   "source": [
    "# Import our input dataset\n",
    "charityDF = pd.read_csv('charity_data.csv')\n",
    "charityDF.head()"
   ]
  },
  {
   "cell_type": "code",
   "execution_count": 6,
   "metadata": {},
   "outputs": [
    {
     "output_type": "execute_result",
     "data": {
      "text/plain": [
       "1    34294\n",
       "0        5\n",
       "Name: STATUS, dtype: int64"
      ]
     },
     "metadata": {},
     "execution_count": 6
    }
   ],
   "source": [
    "charityDF.STATUS.value_counts()"
   ]
  },
  {
   "cell_type": "code",
   "execution_count": 7,
   "metadata": {},
   "outputs": [
    {
     "output_type": "execute_result",
     "data": {
      "text/plain": [
       "N    34272\n",
       "Y       27\n",
       "Name: SPECIAL_CONSIDERATIONS, dtype: int64"
      ]
     },
     "metadata": {},
     "execution_count": 7
    }
   ],
   "source": [
    "charityDF.SPECIAL_CONSIDERATIONS.value_counts()"
   ]
  },
  {
   "cell_type": "code",
   "execution_count": 8,
   "metadata": {},
   "outputs": [
    {
     "output_type": "execute_result",
     "data": {
      "text/plain": [
       "  APPLICATION_TYPE       AFFILIATION CLASSIFICATION      USE_CASE  \\\n",
       "0              T10       Independent          C1000    ProductDev   \n",
       "1               T3       Independent          C2000  Preservation   \n",
       "2               T5  CompanySponsored          C3000    ProductDev   \n",
       "3               T3  CompanySponsored          C2000  Preservation   \n",
       "4               T3       Independent          C1000     Heathcare   \n",
       "\n",
       "   ORGANIZATION     INCOME_AMT  ASK_AMT  IS_SUCCESSFUL  \n",
       "0   Association              0     5000              1  \n",
       "1  Co-operative         1-9999   108590              1  \n",
       "2   Association              0     5000              0  \n",
       "3         Trust    10000-24999     6692              1  \n",
       "4         Trust  100000-499999   142590              1  "
      ],
      "text/html": "<div>\n<style scoped>\n    .dataframe tbody tr th:only-of-type {\n        vertical-align: middle;\n    }\n\n    .dataframe tbody tr th {\n        vertical-align: top;\n    }\n\n    .dataframe thead th {\n        text-align: right;\n    }\n</style>\n<table border=\"1\" class=\"dataframe\">\n  <thead>\n    <tr style=\"text-align: right;\">\n      <th></th>\n      <th>APPLICATION_TYPE</th>\n      <th>AFFILIATION</th>\n      <th>CLASSIFICATION</th>\n      <th>USE_CASE</th>\n      <th>ORGANIZATION</th>\n      <th>INCOME_AMT</th>\n      <th>ASK_AMT</th>\n      <th>IS_SUCCESSFUL</th>\n    </tr>\n  </thead>\n  <tbody>\n    <tr>\n      <th>0</th>\n      <td>T10</td>\n      <td>Independent</td>\n      <td>C1000</td>\n      <td>ProductDev</td>\n      <td>Association</td>\n      <td>0</td>\n      <td>5000</td>\n      <td>1</td>\n    </tr>\n    <tr>\n      <th>1</th>\n      <td>T3</td>\n      <td>Independent</td>\n      <td>C2000</td>\n      <td>Preservation</td>\n      <td>Co-operative</td>\n      <td>1-9999</td>\n      <td>108590</td>\n      <td>1</td>\n    </tr>\n    <tr>\n      <th>2</th>\n      <td>T5</td>\n      <td>CompanySponsored</td>\n      <td>C3000</td>\n      <td>ProductDev</td>\n      <td>Association</td>\n      <td>0</td>\n      <td>5000</td>\n      <td>0</td>\n    </tr>\n    <tr>\n      <th>3</th>\n      <td>T3</td>\n      <td>CompanySponsored</td>\n      <td>C2000</td>\n      <td>Preservation</td>\n      <td>Trust</td>\n      <td>10000-24999</td>\n      <td>6692</td>\n      <td>1</td>\n    </tr>\n    <tr>\n      <th>4</th>\n      <td>T3</td>\n      <td>Independent</td>\n      <td>C1000</td>\n      <td>Heathcare</td>\n      <td>Trust</td>\n      <td>100000-499999</td>\n      <td>142590</td>\n      <td>1</td>\n    </tr>\n  </tbody>\n</table>\n</div>"
     },
     "metadata": {},
     "execution_count": 8
    }
   ],
   "source": [
    "# Remove EIN, NAME, STATUS and SPECIAL_CONSIDERATIONS from Dataset, not usefull for analysis\n",
    "charityDF = charityDF.drop([\"EIN\",\"NAME\", \"STATUS\", \"SPECIAL_CONSIDERATIONS\"],axis = 1)\n",
    "charityDF.head()\n"
   ]
  },
  {
   "cell_type": "code",
   "execution_count": 9,
   "metadata": {},
   "outputs": [
    {
     "output_type": "execute_result",
     "data": {
      "text/plain": [
       "APPLICATION_TYPE    17\n",
       "AFFILIATION          6\n",
       "CLASSIFICATION      71\n",
       "USE_CASE             5\n",
       "ORGANIZATION         4\n",
       "INCOME_AMT           9\n",
       "dtype: int64"
      ]
     },
     "metadata": {},
     "execution_count": 9
    }
   ],
   "source": [
    "# Generate our categorical variable list\n",
    "charity_cat = charityDF.dtypes[charityDF.dtypes == \"object\"].index.tolist()\n",
    "\n",
    "# Check the number of unique values in each column\n",
    "charityDF[charity_cat].nunique()"
   ]
  },
  {
   "cell_type": "code",
   "execution_count": 10,
   "metadata": {},
   "outputs": [
    {
     "output_type": "execute_result",
     "data": {
      "text/plain": [
       "T3     27037\n",
       "T4      1542\n",
       "T6      1216\n",
       "T5      1173\n",
       "T19     1065\n",
       "T8       737\n",
       "T7       725\n",
       "T10      528\n",
       "T9       156\n",
       "T13       66\n",
       "T12       27\n",
       "T2        16\n",
       "T25        3\n",
       "T14        3\n",
       "T29        2\n",
       "T15        2\n",
       "T17        1\n",
       "Name: APPLICATION_TYPE, dtype: int64"
      ]
     },
     "metadata": {},
     "execution_count": 10
    }
   ],
   "source": [
    "# Print out the Application Type value counts\n",
    "APPLICATION_TYPE_Counts = charityDF.APPLICATION_TYPE.value_counts()\n",
    "APPLICATION_TYPE_Counts"
   ]
  },
  {
   "cell_type": "code",
   "execution_count": 11,
   "metadata": {},
   "outputs": [
    {
     "output_type": "execute_result",
     "data": {
      "text/plain": [
       "T3       27037\n",
       "Other     2266\n",
       "T4        1542\n",
       "T6        1216\n",
       "T5        1173\n",
       "T19       1065\n",
       "Name: APPLICATION_TYPE, dtype: int64"
      ]
     },
     "metadata": {},
     "execution_count": 11
    }
   ],
   "source": [
    "# Group All Application Types with less than 1000 as \"Other\"\n",
    "# Determine which values to replace\n",
    "replace_type = list(APPLICATION_TYPE_Counts[APPLICATION_TYPE_Counts < 1000].index)\n",
    "\n",
    "# Replace in DataFrame\n",
    "for APPLICATION_TYPE in replace_type:\n",
    "    charityDF.APPLICATION_TYPE = charityDF.APPLICATION_TYPE.replace(APPLICATION_TYPE,\"Other\")\n",
    "\n",
    "# Check to make sure binning was successful\n",
    "charityDF.APPLICATION_TYPE.value_counts()\n"
   ]
  },
  {
   "cell_type": "code",
   "execution_count": 12,
   "metadata": {},
   "outputs": [
    {
     "output_type": "execute_result",
     "data": {
      "text/plain": [
       "C1000    17326\n",
       "C2000     6074\n",
       "C1200     4837\n",
       "C3000     1918\n",
       "C2100     1883\n",
       "         ...  \n",
       "C4500        1\n",
       "C1580        1\n",
       "C1245        1\n",
       "C1732        1\n",
       "C1570        1\n",
       "Name: CLASSIFICATION, Length: 71, dtype: int64"
      ]
     },
     "metadata": {},
     "execution_count": 12
    }
   ],
   "source": [
    "# Print out the Application Type value counts\n",
    "CLASSIFICATION_Counts = charityDF.CLASSIFICATION.value_counts()\n",
    "CLASSIFICATION_Counts"
   ]
  },
  {
   "cell_type": "code",
   "execution_count": 13,
   "metadata": {},
   "outputs": [
    {
     "output_type": "execute_result",
     "data": {
      "text/plain": [
       "C1000    17326\n",
       "C2000     6074\n",
       "C1200     4837\n",
       "Other     2261\n",
       "C3000     1918\n",
       "C2100     1883\n",
       "Name: CLASSIFICATION, dtype: int64"
      ]
     },
     "metadata": {},
     "execution_count": 13
    }
   ],
   "source": [
    "# Group All CLASSIFICATION Types with less than 1000 as \"Other\"\n",
    "# Determine which values to replace\n",
    "replace_type = list(CLASSIFICATION_Counts[CLASSIFICATION_Counts < 1000].index)\n",
    "\n",
    "# Replace in DataFrame\n",
    "for CLASSIFICATION in replace_type:\n",
    "    charityDF.CLASSIFICATION = charityDF.CLASSIFICATION.replace(CLASSIFICATION,\"Other\")\n",
    "\n",
    "# Check to make sure binning was successful\n",
    "charityDF.CLASSIFICATION.value_counts()"
   ]
  },
  {
   "cell_type": "code",
   "execution_count": 14,
   "metadata": {},
   "outputs": [
    {
     "output_type": "execute_result",
     "data": {
      "text/plain": [
       "0                24388\n",
       "25000-99999       3747\n",
       "100000-499999     3374\n",
       "1M-5M              955\n",
       "1-9999             728\n",
       "10000-24999        543\n",
       "10M-50M            240\n",
       "5M-10M             185\n",
       "50M+               139\n",
       "Name: INCOME_AMT, dtype: int64"
      ]
     },
     "metadata": {},
     "execution_count": 14
    }
   ],
   "source": [
    "# Print out the Application Type value counts\n",
    "INCOME_AMT_Counts = charityDF.INCOME_AMT.value_counts()\n",
    "INCOME_AMT_Counts\n"
   ]
  },
  {
   "cell_type": "code",
   "execution_count": 15,
   "metadata": {},
   "outputs": [
    {
     "output_type": "execute_result",
     "data": {
      "text/plain": [
       "0     24388\n",
       ">0     9911\n",
       "Name: INCOME_AMT, dtype: int64"
      ]
     },
     "metadata": {},
     "execution_count": 15
    }
   ],
   "source": [
    "# Group All INCOME_AMT Types with non-zero as \">0\"  \n",
    "# Determine which values to replace\n",
    "replace_type = list(INCOME_AMT_Counts[INCOME_AMT_Counts < 10000].index)\n",
    "\n",
    "# Replace in DataFrame\n",
    "for INCOME_AMT in replace_type:\n",
    "    charityDF.INCOME_AMT = charityDF.INCOME_AMT.replace(INCOME_AMT,\">0\")\n",
    "\n",
    "# Check to make sure binning was successful\n",
    "charityDF.INCOME_AMT.value_counts()"
   ]
  },
  {
   "cell_type": "code",
   "execution_count": 16,
   "metadata": {},
   "outputs": [
    {
     "output_type": "execute_result",
     "data": {
      "text/plain": [
       "Independent         18480\n",
       "CompanySponsored    15705\n",
       "Family/Parent          64\n",
       "National               33\n",
       "Regional               13\n",
       "Other                   4\n",
       "Name: AFFILIATION, dtype: int64"
      ]
     },
     "metadata": {},
     "execution_count": 16
    }
   ],
   "source": [
    "# The large majority of the INCOME AMT are 0, Group all non-zero data together\n",
    "# Print out the Application Type value counts\n",
    "AFFILIATION_Counts = charityDF.AFFILIATION.value_counts()\n",
    "AFFILIATION_Counts"
   ]
  },
  {
   "cell_type": "code",
   "execution_count": 17,
   "metadata": {},
   "outputs": [
    {
     "output_type": "execute_result",
     "data": {
      "text/plain": [
       "Independent         18480\n",
       "CompanySponsored    15705\n",
       "Other                 114\n",
       "Name: AFFILIATION, dtype: int64"
      ]
     },
     "metadata": {},
     "execution_count": 17
    }
   ],
   "source": [
    "# Group All AFFILIATION Types with less than 100 as \"other\"  \n",
    "# Determine which values to replace\n",
    "replace_type = list(AFFILIATION_Counts[AFFILIATION_Counts < 100].index)\n",
    "\n",
    "# Replace in DataFrame\n",
    "for AFFILIATION in replace_type:\n",
    "    charityDF.AFFILIATION = charityDF.AFFILIATION.replace(AFFILIATION,\"Other\")\n",
    "\n",
    "# Check to make sure binning was successful\n",
    "charityDF.AFFILIATION.value_counts()"
   ]
  },
  {
   "cell_type": "code",
   "execution_count": 18,
   "metadata": {},
   "outputs": [
    {
     "output_type": "execute_result",
     "data": {
      "text/plain": [
       "Preservation     28095\n",
       "ProductDev        5671\n",
       "CommunityServ      384\n",
       "Heathcare          146\n",
       "Other                3\n",
       "Name: USE_CASE, dtype: int64"
      ]
     },
     "metadata": {},
     "execution_count": 18
    }
   ],
   "source": [
    "# Print out the Application Type value counts\n",
    "USE_CASE_Counts = charityDF.USE_CASE.value_counts()\n",
    "USE_CASE_Counts"
   ]
  },
  {
   "cell_type": "code",
   "execution_count": 19,
   "metadata": {},
   "outputs": [
    {
     "output_type": "execute_result",
     "data": {
      "text/plain": [
       "Preservation    28095\n",
       "ProductDev       5671\n",
       "Other             533\n",
       "Name: USE_CASE, dtype: int64"
      ]
     },
     "metadata": {},
     "execution_count": 19
    }
   ],
   "source": [
    "# Group USE_CASE Types with less than 1000 as \"other\"  \n",
    "# Determine which values to replace\n",
    "replace_type = list(USE_CASE_Counts[USE_CASE_Counts < 1000].index)\n",
    "\n",
    "# Replace in DataFrame\n",
    "for USE_CASE in replace_type:\n",
    "    charityDF.USE_CASE = charityDF.USE_CASE.replace(USE_CASE,\"Other\")\n",
    "\n",
    "# Check to make sure binning was successful\n",
    "charityDF.USE_CASE.value_counts() "
   ]
  },
  {
   "cell_type": "code",
   "execution_count": 20,
   "metadata": {},
   "outputs": [
    {
     "output_type": "execute_result",
     "data": {
      "text/plain": [
       "Trust           23515\n",
       "Association     10255\n",
       "Co-operative      486\n",
       "Corporation        43\n",
       "Name: ORGANIZATION, dtype: int64"
      ]
     },
     "metadata": {},
     "execution_count": 20
    }
   ],
   "source": [
    "# Print out the ORGANIZATION Type value counts\n",
    "ORGANIZATION_Counts = charityDF.ORGANIZATION.value_counts()\n",
    "ORGANIZATION_Counts"
   ]
  },
  {
   "cell_type": "code",
   "execution_count": 21,
   "metadata": {},
   "outputs": [
    {
     "output_type": "execute_result",
     "data": {
      "text/plain": [
       "Trust          23515\n",
       "Association    10255\n",
       "Other            529\n",
       "Name: ORGANIZATION, dtype: int64"
      ]
     },
     "metadata": {},
     "execution_count": 21
    }
   ],
   "source": [
    "# Group ORGANIZATION Types with less than 1000 as \"other\"  \n",
    "# Determine which values to replace\n",
    "replace_type = list(ORGANIZATION_Counts[ORGANIZATION_Counts < 1000].index)\n",
    "\n",
    "# Replace in DataFrame\n",
    "for ORGANIZATION in replace_type:\n",
    "    charityDF.ORGANIZATION = charityDF.ORGANIZATION.replace(ORGANIZATION,\"Other\")\n",
    "\n",
    "# Check to make sure binning was successful\n",
    "charityDF.ORGANIZATION.value_counts() "
   ]
  },
  {
   "cell_type": "code",
   "execution_count": 22,
   "metadata": {},
   "outputs": [
    {
     "output_type": "execute_result",
     "data": {
      "text/plain": [
       "   APPLICATION_TYPE_Other  APPLICATION_TYPE_T19  APPLICATION_TYPE_T3  \\\n",
       "0                     1.0                   0.0                  0.0   \n",
       "1                     0.0                   0.0                  1.0   \n",
       "2                     0.0                   0.0                  0.0   \n",
       "3                     0.0                   0.0                  1.0   \n",
       "4                     0.0                   0.0                  1.0   \n",
       "\n",
       "   APPLICATION_TYPE_T4  APPLICATION_TYPE_T5  APPLICATION_TYPE_T6  \\\n",
       "0                  0.0                  0.0                  0.0   \n",
       "1                  0.0                  0.0                  0.0   \n",
       "2                  0.0                  1.0                  0.0   \n",
       "3                  0.0                  0.0                  0.0   \n",
       "4                  0.0                  0.0                  0.0   \n",
       "\n",
       "   AFFILIATION_CompanySponsored  AFFILIATION_Independent  AFFILIATION_Other  \\\n",
       "0                           0.0                      1.0                0.0   \n",
       "1                           0.0                      1.0                0.0   \n",
       "2                           1.0                      0.0                0.0   \n",
       "3                           1.0                      0.0                0.0   \n",
       "4                           0.0                      1.0                0.0   \n",
       "\n",
       "   CLASSIFICATION_C1000  ...  CLASSIFICATION_C3000  CLASSIFICATION_Other  \\\n",
       "0                   1.0  ...                   0.0                   0.0   \n",
       "1                   0.0  ...                   0.0                   0.0   \n",
       "2                   0.0  ...                   1.0                   0.0   \n",
       "3                   0.0  ...                   0.0                   0.0   \n",
       "4                   1.0  ...                   0.0                   0.0   \n",
       "\n",
       "   USE_CASE_Other  USE_CASE_Preservation  USE_CASE_ProductDev  \\\n",
       "0             0.0                    0.0                  1.0   \n",
       "1             0.0                    1.0                  0.0   \n",
       "2             0.0                    0.0                  1.0   \n",
       "3             0.0                    1.0                  0.0   \n",
       "4             1.0                    0.0                  0.0   \n",
       "\n",
       "   ORGANIZATION_Association  ORGANIZATION_Other  ORGANIZATION_Trust  \\\n",
       "0                       1.0                 0.0                 0.0   \n",
       "1                       0.0                 1.0                 0.0   \n",
       "2                       1.0                 0.0                 0.0   \n",
       "3                       0.0                 0.0                 1.0   \n",
       "4                       0.0                 0.0                 1.0   \n",
       "\n",
       "   INCOME_AMT_0  INCOME_AMT_>0  \n",
       "0           1.0            0.0  \n",
       "1           0.0            1.0  \n",
       "2           1.0            0.0  \n",
       "3           0.0            1.0  \n",
       "4           0.0            1.0  \n",
       "\n",
       "[5 rows x 23 columns]"
      ],
      "text/html": "<div>\n<style scoped>\n    .dataframe tbody tr th:only-of-type {\n        vertical-align: middle;\n    }\n\n    .dataframe tbody tr th {\n        vertical-align: top;\n    }\n\n    .dataframe thead th {\n        text-align: right;\n    }\n</style>\n<table border=\"1\" class=\"dataframe\">\n  <thead>\n    <tr style=\"text-align: right;\">\n      <th></th>\n      <th>APPLICATION_TYPE_Other</th>\n      <th>APPLICATION_TYPE_T19</th>\n      <th>APPLICATION_TYPE_T3</th>\n      <th>APPLICATION_TYPE_T4</th>\n      <th>APPLICATION_TYPE_T5</th>\n      <th>APPLICATION_TYPE_T6</th>\n      <th>AFFILIATION_CompanySponsored</th>\n      <th>AFFILIATION_Independent</th>\n      <th>AFFILIATION_Other</th>\n      <th>CLASSIFICATION_C1000</th>\n      <th>...</th>\n      <th>CLASSIFICATION_C3000</th>\n      <th>CLASSIFICATION_Other</th>\n      <th>USE_CASE_Other</th>\n      <th>USE_CASE_Preservation</th>\n      <th>USE_CASE_ProductDev</th>\n      <th>ORGANIZATION_Association</th>\n      <th>ORGANIZATION_Other</th>\n      <th>ORGANIZATION_Trust</th>\n      <th>INCOME_AMT_0</th>\n      <th>INCOME_AMT_&gt;0</th>\n    </tr>\n  </thead>\n  <tbody>\n    <tr>\n      <th>0</th>\n      <td>1.0</td>\n      <td>0.0</td>\n      <td>0.0</td>\n      <td>0.0</td>\n      <td>0.0</td>\n      <td>0.0</td>\n      <td>0.0</td>\n      <td>1.0</td>\n      <td>0.0</td>\n      <td>1.0</td>\n      <td>...</td>\n      <td>0.0</td>\n      <td>0.0</td>\n      <td>0.0</td>\n      <td>0.0</td>\n      <td>1.0</td>\n      <td>1.0</td>\n      <td>0.0</td>\n      <td>0.0</td>\n      <td>1.0</td>\n      <td>0.0</td>\n    </tr>\n    <tr>\n      <th>1</th>\n      <td>0.0</td>\n      <td>0.0</td>\n      <td>1.0</td>\n      <td>0.0</td>\n      <td>0.0</td>\n      <td>0.0</td>\n      <td>0.0</td>\n      <td>1.0</td>\n      <td>0.0</td>\n      <td>0.0</td>\n      <td>...</td>\n      <td>0.0</td>\n      <td>0.0</td>\n      <td>0.0</td>\n      <td>1.0</td>\n      <td>0.0</td>\n      <td>0.0</td>\n      <td>1.0</td>\n      <td>0.0</td>\n      <td>0.0</td>\n      <td>1.0</td>\n    </tr>\n    <tr>\n      <th>2</th>\n      <td>0.0</td>\n      <td>0.0</td>\n      <td>0.0</td>\n      <td>0.0</td>\n      <td>1.0</td>\n      <td>0.0</td>\n      <td>1.0</td>\n      <td>0.0</td>\n      <td>0.0</td>\n      <td>0.0</td>\n      <td>...</td>\n      <td>1.0</td>\n      <td>0.0</td>\n      <td>0.0</td>\n      <td>0.0</td>\n      <td>1.0</td>\n      <td>1.0</td>\n      <td>0.0</td>\n      <td>0.0</td>\n      <td>1.0</td>\n      <td>0.0</td>\n    </tr>\n    <tr>\n      <th>3</th>\n      <td>0.0</td>\n      <td>0.0</td>\n      <td>1.0</td>\n      <td>0.0</td>\n      <td>0.0</td>\n      <td>0.0</td>\n      <td>1.0</td>\n      <td>0.0</td>\n      <td>0.0</td>\n      <td>0.0</td>\n      <td>...</td>\n      <td>0.0</td>\n      <td>0.0</td>\n      <td>0.0</td>\n      <td>1.0</td>\n      <td>0.0</td>\n      <td>0.0</td>\n      <td>0.0</td>\n      <td>1.0</td>\n      <td>0.0</td>\n      <td>1.0</td>\n    </tr>\n    <tr>\n      <th>4</th>\n      <td>0.0</td>\n      <td>0.0</td>\n      <td>1.0</td>\n      <td>0.0</td>\n      <td>0.0</td>\n      <td>0.0</td>\n      <td>0.0</td>\n      <td>1.0</td>\n      <td>0.0</td>\n      <td>1.0</td>\n      <td>...</td>\n      <td>0.0</td>\n      <td>0.0</td>\n      <td>1.0</td>\n      <td>0.0</td>\n      <td>0.0</td>\n      <td>0.0</td>\n      <td>0.0</td>\n      <td>1.0</td>\n      <td>0.0</td>\n      <td>1.0</td>\n    </tr>\n  </tbody>\n</table>\n<p>5 rows × 23 columns</p>\n</div>"
     },
     "metadata": {},
     "execution_count": 22
    }
   ],
   "source": [
    "# Create a OneHotEncoder instance\n",
    "enc = OneHotEncoder(sparse=False)\n",
    "\n",
    "# Fit and transform the OneHotEncoder using the categorical variable list\n",
    "encode_df = pd.DataFrame(enc.fit_transform(charityDF[charity_cat]))\n",
    "\n",
    "# Add the encoded variable names to the dataframe\n",
    "encode_df.columns = enc.get_feature_names(charity_cat)\n",
    "encode_df.head()"
   ]
  },
  {
   "cell_type": "code",
   "execution_count": 23,
   "metadata": {},
   "outputs": [
    {
     "output_type": "execute_result",
     "data": {
      "text/plain": [
       "   ASK_AMT  IS_SUCCESSFUL  APPLICATION_TYPE_Other  APPLICATION_TYPE_T19  \\\n",
       "0     5000              1                     1.0                   0.0   \n",
       "1   108590              1                     0.0                   0.0   \n",
       "2     5000              0                     0.0                   0.0   \n",
       "3     6692              1                     0.0                   0.0   \n",
       "4   142590              1                     0.0                   0.0   \n",
       "\n",
       "   APPLICATION_TYPE_T3  APPLICATION_TYPE_T4  APPLICATION_TYPE_T5  \\\n",
       "0                  0.0                  0.0                  0.0   \n",
       "1                  1.0                  0.0                  0.0   \n",
       "2                  0.0                  0.0                  1.0   \n",
       "3                  1.0                  0.0                  0.0   \n",
       "4                  1.0                  0.0                  0.0   \n",
       "\n",
       "   APPLICATION_TYPE_T6  AFFILIATION_CompanySponsored  AFFILIATION_Independent  \\\n",
       "0                  0.0                           0.0                      1.0   \n",
       "1                  0.0                           0.0                      1.0   \n",
       "2                  0.0                           1.0                      0.0   \n",
       "3                  0.0                           1.0                      0.0   \n",
       "4                  0.0                           0.0                      1.0   \n",
       "\n",
       "   ...  CLASSIFICATION_C3000  CLASSIFICATION_Other  USE_CASE_Other  \\\n",
       "0  ...                   0.0                   0.0             0.0   \n",
       "1  ...                   0.0                   0.0             0.0   \n",
       "2  ...                   1.0                   0.0             0.0   \n",
       "3  ...                   0.0                   0.0             0.0   \n",
       "4  ...                   0.0                   0.0             1.0   \n",
       "\n",
       "   USE_CASE_Preservation  USE_CASE_ProductDev  ORGANIZATION_Association  \\\n",
       "0                    0.0                  1.0                       1.0   \n",
       "1                    1.0                  0.0                       0.0   \n",
       "2                    0.0                  1.0                       1.0   \n",
       "3                    1.0                  0.0                       0.0   \n",
       "4                    0.0                  0.0                       0.0   \n",
       "\n",
       "   ORGANIZATION_Other  ORGANIZATION_Trust  INCOME_AMT_0  INCOME_AMT_>0  \n",
       "0                 0.0                 0.0           1.0            0.0  \n",
       "1                 1.0                 0.0           0.0            1.0  \n",
       "2                 0.0                 0.0           1.0            0.0  \n",
       "3                 0.0                 1.0           0.0            1.0  \n",
       "4                 0.0                 1.0           0.0            1.0  \n",
       "\n",
       "[5 rows x 25 columns]"
      ],
      "text/html": "<div>\n<style scoped>\n    .dataframe tbody tr th:only-of-type {\n        vertical-align: middle;\n    }\n\n    .dataframe tbody tr th {\n        vertical-align: top;\n    }\n\n    .dataframe thead th {\n        text-align: right;\n    }\n</style>\n<table border=\"1\" class=\"dataframe\">\n  <thead>\n    <tr style=\"text-align: right;\">\n      <th></th>\n      <th>ASK_AMT</th>\n      <th>IS_SUCCESSFUL</th>\n      <th>APPLICATION_TYPE_Other</th>\n      <th>APPLICATION_TYPE_T19</th>\n      <th>APPLICATION_TYPE_T3</th>\n      <th>APPLICATION_TYPE_T4</th>\n      <th>APPLICATION_TYPE_T5</th>\n      <th>APPLICATION_TYPE_T6</th>\n      <th>AFFILIATION_CompanySponsored</th>\n      <th>AFFILIATION_Independent</th>\n      <th>...</th>\n      <th>CLASSIFICATION_C3000</th>\n      <th>CLASSIFICATION_Other</th>\n      <th>USE_CASE_Other</th>\n      <th>USE_CASE_Preservation</th>\n      <th>USE_CASE_ProductDev</th>\n      <th>ORGANIZATION_Association</th>\n      <th>ORGANIZATION_Other</th>\n      <th>ORGANIZATION_Trust</th>\n      <th>INCOME_AMT_0</th>\n      <th>INCOME_AMT_&gt;0</th>\n    </tr>\n  </thead>\n  <tbody>\n    <tr>\n      <th>0</th>\n      <td>5000</td>\n      <td>1</td>\n      <td>1.0</td>\n      <td>0.0</td>\n      <td>0.0</td>\n      <td>0.0</td>\n      <td>0.0</td>\n      <td>0.0</td>\n      <td>0.0</td>\n      <td>1.0</td>\n      <td>...</td>\n      <td>0.0</td>\n      <td>0.0</td>\n      <td>0.0</td>\n      <td>0.0</td>\n      <td>1.0</td>\n      <td>1.0</td>\n      <td>0.0</td>\n      <td>0.0</td>\n      <td>1.0</td>\n      <td>0.0</td>\n    </tr>\n    <tr>\n      <th>1</th>\n      <td>108590</td>\n      <td>1</td>\n      <td>0.0</td>\n      <td>0.0</td>\n      <td>1.0</td>\n      <td>0.0</td>\n      <td>0.0</td>\n      <td>0.0</td>\n      <td>0.0</td>\n      <td>1.0</td>\n      <td>...</td>\n      <td>0.0</td>\n      <td>0.0</td>\n      <td>0.0</td>\n      <td>1.0</td>\n      <td>0.0</td>\n      <td>0.0</td>\n      <td>1.0</td>\n      <td>0.0</td>\n      <td>0.0</td>\n      <td>1.0</td>\n    </tr>\n    <tr>\n      <th>2</th>\n      <td>5000</td>\n      <td>0</td>\n      <td>0.0</td>\n      <td>0.0</td>\n      <td>0.0</td>\n      <td>0.0</td>\n      <td>1.0</td>\n      <td>0.0</td>\n      <td>1.0</td>\n      <td>0.0</td>\n      <td>...</td>\n      <td>1.0</td>\n      <td>0.0</td>\n      <td>0.0</td>\n      <td>0.0</td>\n      <td>1.0</td>\n      <td>1.0</td>\n      <td>0.0</td>\n      <td>0.0</td>\n      <td>1.0</td>\n      <td>0.0</td>\n    </tr>\n    <tr>\n      <th>3</th>\n      <td>6692</td>\n      <td>1</td>\n      <td>0.0</td>\n      <td>0.0</td>\n      <td>1.0</td>\n      <td>0.0</td>\n      <td>0.0</td>\n      <td>0.0</td>\n      <td>1.0</td>\n      <td>0.0</td>\n      <td>...</td>\n      <td>0.0</td>\n      <td>0.0</td>\n      <td>0.0</td>\n      <td>1.0</td>\n      <td>0.0</td>\n      <td>0.0</td>\n      <td>0.0</td>\n      <td>1.0</td>\n      <td>0.0</td>\n      <td>1.0</td>\n    </tr>\n    <tr>\n      <th>4</th>\n      <td>142590</td>\n      <td>1</td>\n      <td>0.0</td>\n      <td>0.0</td>\n      <td>1.0</td>\n      <td>0.0</td>\n      <td>0.0</td>\n      <td>0.0</td>\n      <td>0.0</td>\n      <td>1.0</td>\n      <td>...</td>\n      <td>0.0</td>\n      <td>0.0</td>\n      <td>1.0</td>\n      <td>0.0</td>\n      <td>0.0</td>\n      <td>0.0</td>\n      <td>0.0</td>\n      <td>1.0</td>\n      <td>0.0</td>\n      <td>1.0</td>\n    </tr>\n  </tbody>\n</table>\n<p>5 rows × 25 columns</p>\n</div>"
     },
     "metadata": {},
     "execution_count": 23
    }
   ],
   "source": [
    "# Merge one-hot encoded features and drop the originals\n",
    "charityDF = charityDF.merge(encode_df,left_index=True, right_index=True)\n",
    "charityDF = charityDF.drop(charity_cat,1)\n",
    "charityDF.head()"
   ]
  },
  {
   "cell_type": "code",
   "execution_count": 24,
   "metadata": {},
   "outputs": [
    {
     "output_type": "execute_result",
     "data": {
      "text/plain": [
       "ASK_AMT                           int64\n",
       "IS_SUCCESSFUL                     int64\n",
       "APPLICATION_TYPE_Other          float64\n",
       "APPLICATION_TYPE_T19            float64\n",
       "APPLICATION_TYPE_T3             float64\n",
       "APPLICATION_TYPE_T4             float64\n",
       "APPLICATION_TYPE_T5             float64\n",
       "APPLICATION_TYPE_T6             float64\n",
       "AFFILIATION_CompanySponsored    float64\n",
       "AFFILIATION_Independent         float64\n",
       "AFFILIATION_Other               float64\n",
       "CLASSIFICATION_C1000            float64\n",
       "CLASSIFICATION_C1200            float64\n",
       "CLASSIFICATION_C2000            float64\n",
       "CLASSIFICATION_C2100            float64\n",
       "CLASSIFICATION_C3000            float64\n",
       "CLASSIFICATION_Other            float64\n",
       "USE_CASE_Other                  float64\n",
       "USE_CASE_Preservation           float64\n",
       "USE_CASE_ProductDev             float64\n",
       "ORGANIZATION_Association        float64\n",
       "ORGANIZATION_Other              float64\n",
       "ORGANIZATION_Trust              float64\n",
       "INCOME_AMT_0                    float64\n",
       "INCOME_AMT_>0                   float64\n",
       "dtype: object"
      ]
     },
     "metadata": {},
     "execution_count": 24
    }
   ],
   "source": [
    "# Verify all data in table is numerical\n",
    "charityDF.dtypes"
   ]
  },
  {
   "cell_type": "code",
   "execution_count": 25,
   "metadata": {},
   "outputs": [],
   "source": [
    "# Remove IS_SUCCESSFUL target from features data and save as target\n",
    "y = charityDF.IS_SUCCESSFUL.values\n",
    "X = charityDF.drop(columns=[\"IS_SUCCESSFUL\"]).values\n",
    "\n",
    "# Split training/test datasets\n",
    "X_train, X_test, y_train, y_test = train_test_split(X, y, random_state=42, stratify=y)\n",
    "\n",
    "# Create a StandardScaler instance\n",
    "scaler = StandardScaler()\n",
    "\n",
    "# Fit the StandardScaler\n",
    "X_scaler = scaler.fit(X_train)\n",
    "\n",
    "# transform the data\n",
    "X_train_scaled = X_scaler.transform(X_train)\n",
    "X_test_scaled = X_scaler.transform(X_test)"
   ]
  },
  {
   "cell_type": "code",
   "execution_count": 26,
   "metadata": {},
   "outputs": [
    {
     "output_type": "stream",
     "name": "stdout",
     "text": [
      " Logistic regression model accuracy: 0.468\n"
     ]
    }
   ],
   "source": [
    "# Create regression model to benchmark Deap learning models\n",
    "\n",
    "# Define the logistic regression model\n",
    "log_classifier = LogisticRegression(solver=\"lbfgs\",max_iter=200)\n",
    "\n",
    "# Train the model\n",
    "log_classifier.fit(X_train,y_train)\n",
    "\n",
    "# Evaluate the model\n",
    "y_pred = log_classifier.predict(X_test)\n",
    "print(f\" Logistic regression model accuracy: {accuracy_score(y_test,y_pred):.3f}\")"
   ]
  },
  {
   "cell_type": "code",
   "execution_count": 27,
   "metadata": {},
   "outputs": [
    {
     "output_type": "stream",
     "name": "stdout",
     "text": [
      "WARNING:tensorflow:From C:\\Users\\Mike\\anaconda3\\envs\\PythonData\\lib\\site-packages\\tensorflow\\python\\ops\\init_ops.py:1251: calling VarianceScaling.__init__ (from tensorflow.python.ops.init_ops) with dtype is deprecated and will be removed in a future version.\n",
      "Instructions for updating:\n",
      "Call initializer instance with the dtype argument instead of passing it to the constructor\n",
      "Model: \"sequential\"\n",
      "_________________________________________________________________\n",
      "Layer (type)                 Output Shape              Param #   \n",
      "=================================================================\n",
      "dense (Dense)                (None, 72)                1800      \n",
      "_________________________________________________________________\n",
      "dense_1 (Dense)              (None, 1)                 73        \n",
      "=================================================================\n",
      "Total params: 1,873\n",
      "Trainable params: 1,873\n",
      "Non-trainable params: 0\n",
      "_________________________________________________________________\n"
     ]
    }
   ],
   "source": [
    "# Number of Epochs for all models\n",
    "numEpochs = 100\n",
    "\n",
    "# Define the model - deep neural net\n",
    "number_input_features = len(X_train[0])\n",
    "\n",
    "hidden_nodes =  3 * number_input_features\n",
    "\n",
    "nn = tf.keras.models.Sequential()\n",
    "\n",
    "# First hidden layer\n",
    "nn.add(tf.keras.layers.Dense(units=hidden_nodes, input_dim=number_input_features, activation=\"relu\"))\n",
    "\n",
    "# Output layer\n",
    "nn.add(tf.keras.layers.Dense(units=1, activation=\"sigmoid\"))\n",
    "\n",
    "# Check the structure of the model\n",
    "nn.summary()"
   ]
  },
  {
   "cell_type": "code",
   "execution_count": 25,
   "metadata": {},
   "outputs": [
    {
     "output_type": "stream",
     "name": "stdout",
     "text": [
      "WARNING:tensorflow:From C:\\Users\\Mike\\anaconda3\\envs\\PythonData\\lib\\site-packages\\tensorflow\\python\\ops\\nn_impl.py:180: add_dispatch_support.<locals>.wrapper (from tensorflow.python.ops.array_ops) is deprecated and will be removed in a future version.\n",
      "Instructions for updating:\n",
      "Use tf.where in 2.0, which has the same broadcast rule as np.where\n",
      "Epoch 1/100\n",
      "25724/25724 [==============================] - 1s 40us/sample - loss: 74269.3317 - acc: 0.5054\n",
      "Epoch 2/100\n",
      "25724/25724 [==============================] - 1s 37us/sample - loss: 52819.5748 - acc: 0.5014\n",
      "Epoch 3/100\n",
      "25724/25724 [==============================] - 1s 39us/sample - loss: 58158.7680 - acc: 0.4908\n",
      "Epoch 4/100\n",
      "25724/25724 [==============================] - 1s 37us/sample - loss: 50373.1948 - acc: 0.5206\n",
      "Epoch 5/100\n",
      "25724/25724 [==============================] - 1s 36us/sample - loss: 53534.7307 - acc: 0.5302\n",
      "Epoch 6/100\n",
      "25724/25724 [==============================] - 1s 39us/sample - loss: 51311.9750 - acc: 0.5216\n",
      "Epoch 7/100\n",
      "25724/25724 [==============================] - 1s 36us/sample - loss: 40260.2802 - acc: 0.5381\n",
      "Epoch 8/100\n",
      "25724/25724 [==============================] - 1s 35us/sample - loss: 95204.1635 - acc: 0.5070\n",
      "Epoch 9/100\n",
      "25724/25724 [==============================] - 1s 35us/sample - loss: 47581.7518 - acc: 0.5261\n",
      "Epoch 10/100\n",
      "25724/25724 [==============================] - 1s 34us/sample - loss: 50059.6123 - acc: 0.5182\n",
      "Epoch 11/100\n",
      "25724/25724 [==============================] - 1s 36us/sample - loss: 42474.6680 - acc: 0.5302\n",
      "Epoch 12/100\n",
      "25724/25724 [==============================] - 1s 35us/sample - loss: 49125.3696 - acc: 0.5564\n",
      "Epoch 13/100\n",
      "25724/25724 [==============================] - 1s 35us/sample - loss: 30091.2564 - acc: 0.5533\n",
      "Epoch 14/100\n",
      "25724/25724 [==============================] - 1s 35us/sample - loss: 44510.5306 - acc: 0.5336\n",
      "Epoch 15/100\n",
      "25724/25724 [==============================] - 1s 36us/sample - loss: 54054.7415 - acc: 0.5178\n",
      "Epoch 16/100\n",
      "25724/25724 [==============================] - 1s 35us/sample - loss: 43512.9419 - acc: 0.5329\n",
      "Epoch 17/100\n",
      "25724/25724 [==============================] - 1s 35us/sample - loss: 7281.4779 - acc: 0.5778\n",
      "Epoch 18/100\n",
      "25724/25724 [==============================] - 1s 36us/sample - loss: 46460.6627 - acc: 0.5297\n",
      "Epoch 19/100\n",
      "25724/25724 [==============================] - 1s 36us/sample - loss: 31068.4223 - acc: 0.5489\n",
      "Epoch 20/100\n",
      "25724/25724 [==============================] - 1s 36us/sample - loss: 13886.7759 - acc: 0.5707\n",
      "Epoch 21/100\n",
      "25724/25724 [==============================] - 1s 35us/sample - loss: 15469.1189 - acc: 0.5377\n",
      "Epoch 22/100\n",
      "25724/25724 [==============================] - 1s 37us/sample - loss: 29362.8661 - acc: 0.5098\n",
      "Epoch 23/100\n",
      "25724/25724 [==============================] - 1s 35us/sample - loss: 9889.0732 - acc: 0.5488\n",
      "Epoch 24/100\n",
      "25724/25724 [==============================] - 1s 47us/sample - loss: 26675.7293 - acc: 0.5370\n",
      "Epoch 25/100\n",
      "25724/25724 [==============================] - 1s 35us/sample - loss: 13143.5125 - acc: 0.5577\n",
      "Epoch 26/100\n",
      "25724/25724 [==============================] - 1s 36us/sample - loss: 15477.7974 - acc: 0.5521\n",
      "Epoch 27/100\n",
      "25724/25724 [==============================] - 1s 36us/sample - loss: 23338.9501 - acc: 0.5274\n",
      "Epoch 28/100\n",
      "25724/25724 [==============================] - 1s 36us/sample - loss: 35465.7928 - acc: 0.5153\n",
      "Epoch 29/100\n",
      "25724/25724 [==============================] - 1s 35us/sample - loss: 19071.9605 - acc: 0.5407\n",
      "Epoch 30/100\n",
      "25724/25724 [==============================] - 1s 35us/sample - loss: 29413.8187 - acc: 0.5430\n",
      "Epoch 31/100\n",
      "25724/25724 [==============================] - 1s 36us/sample - loss: 18543.0763 - acc: 0.5859\n",
      "Epoch 32/100\n",
      "25724/25724 [==============================] - 1s 35us/sample - loss: 6948.7744 - acc: 0.5915\n",
      "Epoch 33/100\n",
      "25724/25724 [==============================] - 1s 38us/sample - loss: 43783.9513 - acc: 0.5760\n",
      "Epoch 34/100\n",
      "25724/25724 [==============================] - 1s 37us/sample - loss: 25729.0027 - acc: 0.5563\n",
      "Epoch 35/100\n",
      "25724/25724 [==============================] - 1s 37us/sample - loss: 16237.4776 - acc: 0.5746\n",
      "Epoch 36/100\n",
      "25724/25724 [==============================] - 1s 35us/sample - loss: 9793.2972 - acc: 0.6117\n",
      "Epoch 37/100\n",
      "25724/25724 [==============================] - 1s 35us/sample - loss: 26327.6010 - acc: 0.5424\n",
      "Epoch 38/100\n",
      "25724/25724 [==============================] - 1s 35us/sample - loss: 21422.3597 - acc: 0.5784\n",
      "Epoch 39/100\n",
      "25724/25724 [==============================] - 1s 36us/sample - loss: 13184.5302 - acc: 0.5691\n",
      "Epoch 40/100\n",
      "25724/25724 [==============================] - 1s 36us/sample - loss: 21680.8946 - acc: 0.5176\n",
      "Epoch 41/100\n",
      "25724/25724 [==============================] - 1s 34us/sample - loss: 22223.8069 - acc: 0.5445\n",
      "Epoch 42/100\n",
      "25724/25724 [==============================] - 1s 36us/sample - loss: 20667.1724 - acc: 0.5483\n",
      "Epoch 43/100\n",
      "25724/25724 [==============================] - 1s 36us/sample - loss: 3406.3323 - acc: 0.5861\n",
      "Epoch 44/100\n",
      "25724/25724 [==============================] - 1s 35us/sample - loss: 26694.9375 - acc: 0.5421\n",
      "Epoch 45/100\n",
      "25724/25724 [==============================] - 1s 36us/sample - loss: 16170.1348 - acc: 0.5732\n",
      "Epoch 46/100\n",
      "25724/25724 [==============================] - 1s 36us/sample - loss: 11339.4722 - acc: 0.5951\n",
      "Epoch 47/100\n",
      "25724/25724 [==============================] - 1s 38us/sample - loss: 16389.6854 - acc: 0.5751\n",
      "Epoch 48/100\n",
      "25724/25724 [==============================] - 1s 36us/sample - loss: 15520.2314 - acc: 0.5710\n",
      "Epoch 49/100\n",
      "25724/25724 [==============================] - 1s 36us/sample - loss: 14776.6416 - acc: 0.5400\n",
      "Epoch 50/100\n",
      "25724/25724 [==============================] - 1s 36us/sample - loss: 6599.0074 - acc: 0.5748\n",
      "Epoch 51/100\n",
      "25724/25724 [==============================] - 1s 36us/sample - loss: 8925.7268 - acc: 0.5559\n",
      "Epoch 52/100\n",
      "25724/25724 [==============================] - 1s 36us/sample - loss: 10935.8967 - acc: 0.5403\n",
      "Epoch 53/100\n",
      "25724/25724 [==============================] - 1s 35us/sample - loss: 15564.6792 - acc: 0.5446\n",
      "Epoch 54/100\n",
      "25724/25724 [==============================] - 1s 36us/sample - loss: 8060.5231 - acc: 0.5711\n",
      "Epoch 55/100\n",
      "25724/25724 [==============================] - 1s 37us/sample - loss: 5665.6397 - acc: 0.5844\n",
      "Epoch 56/100\n",
      "25724/25724 [==============================] - 1s 36us/sample - loss: 8377.7371 - acc: 0.5433\n",
      "Epoch 57/100\n",
      "25724/25724 [==============================] - 1s 38us/sample - loss: 8229.0379 - acc: 0.5706\n",
      "Epoch 58/100\n",
      "25724/25724 [==============================] - 1s 36us/sample - loss: 5076.7361 - acc: 0.5876\n",
      "Epoch 59/100\n",
      "25724/25724 [==============================] - 1s 37us/sample - loss: 3239.5369 - acc: 0.5792\n",
      "Epoch 60/100\n",
      "25724/25724 [==============================] - 1s 40us/sample - loss: 9475.7647 - acc: 0.5645\n",
      "Epoch 61/100\n",
      "25724/25724 [==============================] - 1s 40us/sample - loss: 3680.5503 - acc: 0.5300\n",
      "Epoch 62/100\n",
      "25724/25724 [==============================] - 1s 41us/sample - loss: 6854.1392 - acc: 0.5366\n",
      "Epoch 63/100\n",
      "25724/25724 [==============================] - 1s 40us/sample - loss: 2193.2489 - acc: 0.5677\n",
      "Epoch 64/100\n",
      "25724/25724 [==============================] - 1s 37us/sample - loss: 6762.6740 - acc: 0.5294\n",
      "Epoch 65/100\n",
      "25724/25724 [==============================] - 1s 37us/sample - loss: 1766.2658 - acc: 0.5503\n",
      "Epoch 66/100\n",
      "25724/25724 [==============================] - 1s 37us/sample - loss: 3576.8144 - acc: 0.5280\n",
      "Epoch 67/100\n",
      "25724/25724 [==============================] - 1s 36us/sample - loss: 3566.0993 - acc: 0.5319\n",
      "Epoch 68/100\n",
      "25724/25724 [==============================] - 1s 35us/sample - loss: 3574.0662 - acc: 0.5390\n",
      "Epoch 69/100\n",
      "25724/25724 [==============================] - 1s 36us/sample - loss: 3317.8043 - acc: 0.5531\n",
      "Epoch 70/100\n",
      "25724/25724 [==============================] - 1s 36us/sample - loss: 2917.0098 - acc: 0.5733\n",
      "Epoch 71/100\n",
      "25724/25724 [==============================] - 1s 39us/sample - loss: 3899.2912 - acc: 0.5386\n",
      "Epoch 72/100\n",
      "25724/25724 [==============================] - 1s 37us/sample - loss: 2664.9783 - acc: 0.5878\n",
      "Epoch 73/100\n",
      "25724/25724 [==============================] - 1s 40us/sample - loss: 2869.1678 - acc: 0.5861\n",
      "Epoch 74/100\n",
      "25724/25724 [==============================] - 1s 37us/sample - loss: 1573.9537 - acc: 0.5801\n",
      "Epoch 75/100\n",
      "25724/25724 [==============================] - 1s 37us/sample - loss: 5113.4722 - acc: 0.5211\n",
      "Epoch 76/100\n",
      "25724/25724 [==============================] - 1s 35us/sample - loss: 1430.8635 - acc: 0.5596\n",
      "Epoch 77/100\n",
      "25724/25724 [==============================] - 1s 36us/sample - loss: 4586.8903 - acc: 0.5263\n",
      "Epoch 78/100\n",
      "25724/25724 [==============================] - 1s 37us/sample - loss: 2332.2152 - acc: 0.5966\n",
      "Epoch 79/100\n",
      "25724/25724 [==============================] - 1s 45us/sample - loss: 2680.8452 - acc: 0.5458\n",
      "Epoch 80/100\n",
      "25724/25724 [==============================] - 1s 43us/sample - loss: 2141.8713 - acc: 0.5570\n",
      "Epoch 81/100\n",
      "25724/25724 [==============================] - 1s 43us/sample - loss: 2391.0516 - acc: 0.5295\n",
      "Epoch 82/100\n",
      "25724/25724 [==============================] - 1s 42us/sample - loss: 851.9925 - acc: 0.5747\n",
      "Epoch 83/100\n",
      "25724/25724 [==============================] - 1s 44us/sample - loss: 1695.2316 - acc: 0.5892\n",
      "Epoch 84/100\n",
      "25724/25724 [==============================] - 1s 42us/sample - loss: 1252.5353 - acc: 0.5413\n",
      "Epoch 85/100\n",
      "25724/25724 [==============================] - 1s 42us/sample - loss: 905.8443 - acc: 0.5614\n",
      "Epoch 86/100\n",
      "25724/25724 [==============================] - 1s 45us/sample - loss: 200.2569 - acc: 0.6046\n",
      "Epoch 87/100\n",
      "25724/25724 [==============================] - 1s 58us/sample - loss: 169.7263 - acc: 0.6097\n",
      "Epoch 88/100\n",
      "25724/25724 [==============================] - 1s 41us/sample - loss: 409.2651 - acc: 0.5884\n",
      "Epoch 89/100\n",
      "25724/25724 [==============================] - 1s 43us/sample - loss: 830.3235 - acc: 0.5942\n",
      "Epoch 90/100\n",
      "25724/25724 [==============================] - 1s 42us/sample - loss: 425.4285 - acc: 0.5456\n",
      "Epoch 91/100\n",
      "25724/25724 [==============================] - 1s 45us/sample - loss: 676.7508 - acc: 0.5315\n",
      "Epoch 92/100\n",
      "25724/25724 [==============================] - 1s 44us/sample - loss: 206.6986 - acc: 0.5335\n",
      "Epoch 93/100\n",
      "25724/25724 [==============================] - 1s 42us/sample - loss: 4.3307 - acc: 0.5254\n",
      "Epoch 94/100\n",
      "25724/25724 [==============================] - 1s 43us/sample - loss: 12.5503 - acc: 0.5346\n",
      "Epoch 95/100\n",
      "25724/25724 [==============================] - 1s 45us/sample - loss: 0.6891 - acc: 0.5324\n",
      "Epoch 96/100\n",
      "25724/25724 [==============================] - 1s 43us/sample - loss: 0.6861 - acc: 0.5324\n",
      "Epoch 97/100\n",
      "25724/25724 [==============================] - 1s 45us/sample - loss: 0.6893 - acc: 0.5324\n",
      "Epoch 98/100\n",
      "25724/25724 [==============================] - 1s 44us/sample - loss: 0.6902 - acc: 0.5324\n",
      "Epoch 99/100\n",
      "25724/25724 [==============================] - 1s 43us/sample - loss: 0.6901 - acc: 0.5324\n",
      "Epoch 100/100\n",
      "25724/25724 [==============================] - 1s 42us/sample - loss: 0.6898 - acc: 0.5324\n"
     ]
    }
   ],
   "source": [
    "# Compile the model\n",
    "nn.compile(loss=\"binary_crossentropy\", optimizer=\"adam\", metrics=[\"accuracy\"])\n",
    "\n",
    "# Train the model\n",
    "fit_model = nn.fit(X_train,y_train,epochs=numEpochs)"
   ]
  },
  {
   "cell_type": "code",
   "execution_count": 26,
   "metadata": {},
   "outputs": [
    {
     "output_type": "stream",
     "name": "stdout",
     "text": [
      "8575/8575 - 0s - loss: 0.6896 - acc: 0.5324\n",
      "Loss: 0.6895975099291121, Accuracy: 0.5323615074157715\n"
     ]
    }
   ],
   "source": [
    "# Evaluate the model using the test data\n",
    "model_loss, model_accuracy = nn.evaluate(X_test,y_test,verbose=2)\n",
    "print(f\"Loss: {model_loss}, Accuracy: {model_accuracy}\")"
   ]
  },
  {
   "cell_type": "code",
   "execution_count": 27,
   "metadata": {},
   "outputs": [
    {
     "output_type": "stream",
     "name": "stdout",
     "text": [
      "Model: \"sequential_1\"\n_________________________________________________________________\nLayer (type)                 Output Shape              Param #   \n=================================================================\ndense_2 (Dense)              (None, 72)                1800      \n_________________________________________________________________\ndense_3 (Dense)              (None, 1)                 73        \n=================================================================\nTotal params: 1,873\nTrainable params: 1,873\nNon-trainable params: 0\n_________________________________________________________________\n"
     ]
    }
   ],
   "source": [
    "# Define the  2nd model - deep neural net try different activation function\n",
    "number_input_features = len(X_train[0])\n",
    "\n",
    "hidden_nodes =  3 * number_input_features\n",
    "\n",
    "nn2 = tf.keras.models.Sequential()\n",
    "\n",
    "# First hidden layer\n",
    "nn2.add(tf.keras.layers.Dense(units=hidden_nodes, input_dim=number_input_features, activation=\"tanh\"))\n",
    "\n",
    "# Output layer\n",
    "nn2.add(tf.keras.layers.Dense(units=1, activation=\"sigmoid\"))\n",
    "\n",
    "# Check the structure of the model\n",
    "nn2.summary()"
   ]
  },
  {
   "cell_type": "code",
   "execution_count": 28,
   "metadata": {},
   "outputs": [
    {
     "output_type": "stream",
     "name": "stdout",
     "text": [
      "Epoch 1/100\n",
      "25724/25724 [==============================] - 1s 46us/sample - loss: 0.6923 - acc: 0.5253\n",
      "Epoch 2/100\n",
      "25724/25724 [==============================] - 1s 41us/sample - loss: 0.6927 - acc: 0.5241\n",
      "Epoch 3/100\n",
      "25724/25724 [==============================] - 1s 41us/sample - loss: 0.6930 - acc: 0.5240\n",
      "Epoch 4/100\n",
      "25724/25724 [==============================] - 1s 41us/sample - loss: 0.6924 - acc: 0.5235\n",
      "Epoch 5/100\n",
      "25724/25724 [==============================] - 1s 40us/sample - loss: 0.6923 - acc: 0.5218\n",
      "Epoch 6/100\n",
      "25724/25724 [==============================] - 1s 42us/sample - loss: 0.6930 - acc: 0.5257\n",
      "Epoch 7/100\n",
      "25724/25724 [==============================] - 1s 44us/sample - loss: 0.6929 - acc: 0.5226\n",
      "Epoch 8/100\n",
      "25724/25724 [==============================] - 1s 40us/sample - loss: 0.6927 - acc: 0.5225\n",
      "Epoch 9/100\n",
      "25724/25724 [==============================] - 1s 42us/sample - loss: 0.6929 - acc: 0.5219\n",
      "Epoch 10/100\n",
      "25724/25724 [==============================] - 1s 41us/sample - loss: 0.6926 - acc: 0.5260\n",
      "Epoch 11/100\n",
      "25724/25724 [==============================] - 1s 43us/sample - loss: 0.6932 - acc: 0.5232\n",
      "Epoch 12/100\n",
      "25724/25724 [==============================] - 1s 40us/sample - loss: 0.6929 - acc: 0.5236\n",
      "Epoch 13/100\n",
      "25724/25724 [==============================] - 1s 41us/sample - loss: 0.6922 - acc: 0.5232\n",
      "Epoch 14/100\n",
      "25724/25724 [==============================] - 1s 41us/sample - loss: 0.6923 - acc: 0.5253\n",
      "Epoch 15/100\n",
      "25724/25724 [==============================] - 1s 40us/sample - loss: 0.6923 - acc: 0.5247\n",
      "Epoch 16/100\n",
      "25724/25724 [==============================] - 1s 41us/sample - loss: 0.6921 - acc: 0.5268\n",
      "Epoch 17/100\n",
      "25724/25724 [==============================] - 1s 41us/sample - loss: 0.6928 - acc: 0.5222\n",
      "Epoch 18/100\n",
      "25724/25724 [==============================] - 1s 41us/sample - loss: 0.6923 - acc: 0.5250\n",
      "Epoch 19/100\n",
      "25724/25724 [==============================] - 1s 40us/sample - loss: 0.6926 - acc: 0.5236\n",
      "Epoch 20/100\n",
      "25724/25724 [==============================] - 1s 40us/sample - loss: 0.6927 - acc: 0.5249\n",
      "Epoch 21/100\n",
      "25724/25724 [==============================] - 1s 54us/sample - loss: 0.6930 - acc: 0.5241\n",
      "Epoch 22/100\n",
      "25724/25724 [==============================] - 1s 48us/sample - loss: 0.6928 - acc: 0.5239\n",
      "Epoch 23/100\n",
      "25724/25724 [==============================] - 1s 46us/sample - loss: 0.6927 - acc: 0.5237\n",
      "Epoch 24/100\n",
      "25724/25724 [==============================] - 1s 44us/sample - loss: 0.6920 - acc: 0.5258\n",
      "Epoch 25/100\n",
      "25724/25724 [==============================] - 1s 43us/sample - loss: 0.6927 - acc: 0.5229\n",
      "Epoch 26/100\n",
      "25724/25724 [==============================] - 1s 50us/sample - loss: 0.6923 - acc: 0.5278\n",
      "Epoch 27/100\n",
      "25724/25724 [==============================] - 1s 46us/sample - loss: 0.6926 - acc: 0.5263\n",
      "Epoch 28/100\n",
      "25724/25724 [==============================] - 1s 42us/sample - loss: 0.6923 - acc: 0.5225\n",
      "Epoch 29/100\n",
      "25724/25724 [==============================] - 1s 47us/sample - loss: 0.6922 - acc: 0.5263\n",
      "Epoch 30/100\n",
      "25724/25724 [==============================] - 1s 42us/sample - loss: 0.6926 - acc: 0.5250\n",
      "Epoch 31/100\n",
      "25724/25724 [==============================] - 1s 42us/sample - loss: 0.6927 - acc: 0.5265\n",
      "Epoch 32/100\n",
      "25724/25724 [==============================] - 1s 44us/sample - loss: 0.6924 - acc: 0.5265\n",
      "Epoch 33/100\n",
      "25724/25724 [==============================] - 1s 42us/sample - loss: 0.6925 - acc: 0.5254\n",
      "Epoch 34/100\n",
      "25724/25724 [==============================] - 1s 43us/sample - loss: 0.6922 - acc: 0.5263\n",
      "Epoch 35/100\n",
      "25724/25724 [==============================] - 1s 43us/sample - loss: 0.6925 - acc: 0.5250\n",
      "Epoch 36/100\n",
      "25724/25724 [==============================] - 1s 42us/sample - loss: 0.6925 - acc: 0.5256\n",
      "Epoch 37/100\n",
      "25724/25724 [==============================] - 1s 42us/sample - loss: 0.6927 - acc: 0.5258\n",
      "Epoch 38/100\n",
      "25724/25724 [==============================] - 1s 42us/sample - loss: 0.6928 - acc: 0.5242\n",
      "Epoch 39/100\n",
      "25724/25724 [==============================] - 1s 41us/sample - loss: 0.6923 - acc: 0.5210\n",
      "Epoch 40/100\n",
      "25724/25724 [==============================] - 1s 41us/sample - loss: 0.6923 - acc: 0.5264\n",
      "Epoch 41/100\n",
      "25724/25724 [==============================] - 1s 56us/sample - loss: 0.6928 - acc: 0.5223\n",
      "Epoch 42/100\n",
      "25724/25724 [==============================] - 1s 46us/sample - loss: 0.6928 - acc: 0.5243\n",
      "Epoch 43/100\n",
      "25724/25724 [==============================] - 1s 42us/sample - loss: 0.6924 - acc: 0.5257\n",
      "Epoch 44/100\n",
      "25724/25724 [==============================] - 1s 42us/sample - loss: 0.6927 - acc: 0.5236\n",
      "Epoch 45/100\n",
      "25724/25724 [==============================] - 1s 43us/sample - loss: 0.6922 - acc: 0.5269\n",
      "Epoch 46/100\n",
      "25724/25724 [==============================] - 1s 41us/sample - loss: 0.6926 - acc: 0.5232\n",
      "Epoch 47/100\n",
      "25724/25724 [==============================] - 1s 43us/sample - loss: 0.6928 - acc: 0.5246\n",
      "Epoch 48/100\n",
      "25724/25724 [==============================] - 1s 46us/sample - loss: 0.6921 - acc: 0.5234\n",
      "Epoch 49/100\n",
      "25724/25724 [==============================] - 1s 42us/sample - loss: 0.6922 - acc: 0.5229\n",
      "Epoch 50/100\n",
      "25724/25724 [==============================] - 1s 42us/sample - loss: 0.6931 - acc: 0.5201\n",
      "Epoch 51/100\n",
      "25724/25724 [==============================] - 1s 42us/sample - loss: 0.6930 - acc: 0.5241\n",
      "Epoch 52/100\n",
      "25724/25724 [==============================] - 1s 46us/sample - loss: 0.6929 - acc: 0.5247\n",
      "Epoch 53/100\n",
      "25724/25724 [==============================] - 1s 43us/sample - loss: 0.6927 - acc: 0.5260\n",
      "Epoch 54/100\n",
      "25724/25724 [==============================] - 1s 43us/sample - loss: 0.6928 - acc: 0.5263\n",
      "Epoch 55/100\n",
      "25724/25724 [==============================] - 1s 42us/sample - loss: 0.6923 - acc: 0.5268\n",
      "Epoch 56/100\n",
      "25724/25724 [==============================] - 1s 43us/sample - loss: 0.6921 - acc: 0.5264\n",
      "Epoch 57/100\n",
      "25724/25724 [==============================] - 1s 43us/sample - loss: 0.6926 - acc: 0.5245\n",
      "Epoch 58/100\n",
      "25724/25724 [==============================] - 1s 44us/sample - loss: 0.6924 - acc: 0.5257\n",
      "Epoch 59/100\n",
      "25724/25724 [==============================] - 1s 43us/sample - loss: 0.6926 - acc: 0.5255\n",
      "Epoch 60/100\n",
      "25724/25724 [==============================] - 1s 46us/sample - loss: 0.6928 - acc: 0.5228\n",
      "Epoch 61/100\n",
      "25724/25724 [==============================] - 1s 45us/sample - loss: 0.6931 - acc: 0.5211\n",
      "Epoch 62/100\n",
      "25724/25724 [==============================] - 1s 42us/sample - loss: 0.6927 - acc: 0.5236\n",
      "Epoch 63/100\n",
      "25724/25724 [==============================] - 1s 46us/sample - loss: 0.6930 - acc: 0.5243\n",
      "Epoch 64/100\n",
      "25724/25724 [==============================] - 1s 46us/sample - loss: 0.6925 - acc: 0.5246\n",
      "Epoch 65/100\n",
      "25724/25724 [==============================] - 1s 48us/sample - loss: 0.6924 - acc: 0.5250\n",
      "Epoch 66/100\n",
      "25724/25724 [==============================] - 1s 43us/sample - loss: 0.6931 - acc: 0.5188\n",
      "Epoch 67/100\n",
      "25724/25724 [==============================] - 1s 48us/sample - loss: 0.6927 - acc: 0.5267\n",
      "Epoch 68/100\n",
      "25724/25724 [==============================] - 1s 45us/sample - loss: 0.6928 - acc: 0.5250\n",
      "Epoch 69/100\n",
      "25724/25724 [==============================] - 1s 44us/sample - loss: 0.6926 - acc: 0.5251\n",
      "Epoch 70/100\n",
      "25724/25724 [==============================] - 1s 46us/sample - loss: 0.6922 - acc: 0.5288\n",
      "Epoch 71/100\n",
      "25724/25724 [==============================] - 1s 44us/sample - loss: 0.6928 - acc: 0.5221\n",
      "Epoch 72/100\n",
      "25724/25724 [==============================] - 1s 43us/sample - loss: 0.6926 - acc: 0.5239\n",
      "Epoch 73/100\n",
      "25724/25724 [==============================] - 1s 43us/sample - loss: 0.6927 - acc: 0.5276\n",
      "Epoch 74/100\n",
      "25724/25724 [==============================] - 1s 47us/sample - loss: 0.6930 - acc: 0.5222\n",
      "Epoch 75/100\n",
      "25724/25724 [==============================] - 1s 45us/sample - loss: 0.6927 - acc: 0.5229\n",
      "Epoch 76/100\n",
      "25724/25724 [==============================] - 1s 45us/sample - loss: 0.6925 - acc: 0.5238\n",
      "Epoch 77/100\n",
      "25724/25724 [==============================] - 1s 43us/sample - loss: 0.6929 - acc: 0.5229\n",
      "Epoch 78/100\n",
      "25724/25724 [==============================] - 1s 49us/sample - loss: 0.6929 - acc: 0.5222\n",
      "Epoch 79/100\n",
      "25724/25724 [==============================] - 1s 49us/sample - loss: 0.6926 - acc: 0.5252\n",
      "Epoch 80/100\n",
      "25724/25724 [==============================] - 1s 52us/sample - loss: 0.6924 - acc: 0.5281\n",
      "Epoch 81/100\n",
      "25724/25724 [==============================] - 1s 49us/sample - loss: 0.6927 - acc: 0.5274\n",
      "Epoch 82/100\n",
      "25724/25724 [==============================] - 1s 45us/sample - loss: 0.6923 - acc: 0.5280\n",
      "Epoch 83/100\n",
      "25724/25724 [==============================] - 1s 44us/sample - loss: 0.6923 - acc: 0.5271\n",
      "Epoch 84/100\n",
      "25724/25724 [==============================] - 1s 48us/sample - loss: 0.6926 - acc: 0.5247\n",
      "Epoch 85/100\n",
      "25724/25724 [==============================] - 1s 45us/sample - loss: 0.6919 - acc: 0.5252\n",
      "Epoch 86/100\n",
      "25724/25724 [==============================] - 1s 48us/sample - loss: 0.6929 - acc: 0.5226\n",
      "Epoch 87/100\n",
      "25724/25724 [==============================] - 1s 45us/sample - loss: 0.6930 - acc: 0.5231\n",
      "Epoch 88/100\n",
      "25724/25724 [==============================] - 1s 45us/sample - loss: 0.6925 - acc: 0.5271\n",
      "Epoch 89/100\n",
      "25724/25724 [==============================] - 1s 43us/sample - loss: 0.6927 - acc: 0.5271\n",
      "Epoch 90/100\n",
      "25724/25724 [==============================] - 1s 45us/sample - loss: 0.6923 - acc: 0.5286\n",
      "Epoch 91/100\n",
      "25724/25724 [==============================] - 1s 44us/sample - loss: 0.6929 - acc: 0.5224\n",
      "Epoch 92/100\n",
      "25724/25724 [==============================] - 1s 47us/sample - loss: 0.6920 - acc: 0.5225\n",
      "Epoch 93/100\n",
      "25724/25724 [==============================] - 1s 51us/sample - loss: 0.6932 - acc: 0.5207\n",
      "Epoch 94/100\n",
      "25724/25724 [==============================] - 1s 55us/sample - loss: 0.6928 - acc: 0.5218\n",
      "Epoch 95/100\n",
      "25724/25724 [==============================] - 1s 45us/sample - loss: 0.6930 - acc: 0.5236\n",
      "Epoch 96/100\n",
      "25724/25724 [==============================] - 1s 44us/sample - loss: 0.6923 - acc: 0.5278\n",
      "Epoch 97/100\n",
      "25724/25724 [==============================] - 1s 49us/sample - loss: 0.6928 - acc: 0.5230\n",
      "Epoch 98/100\n",
      "25724/25724 [==============================] - 1s 46us/sample - loss: 0.6924 - acc: 0.5269\n",
      "Epoch 99/100\n",
      "25724/25724 [==============================] - 1s 48us/sample - loss: 0.6926 - acc: 0.5253\n",
      "Epoch 100/100\n",
      "25724/25724 [==============================] - 1s 50us/sample - loss: 0.6926 - acc: 0.5206\n"
     ]
    }
   ],
   "source": [
    "# Compile the model\n",
    "nn2.compile(loss=\"binary_crossentropy\", optimizer=\"adam\", metrics=[\"accuracy\"])\n",
    "# Train the model\n",
    "fit_model = nn2.fit(X_train,y_train,epochs=numEpochs)\n"
   ]
  },
  {
   "cell_type": "code",
   "execution_count": 29,
   "metadata": {},
   "outputs": [
    {
     "output_type": "stream",
     "name": "stdout",
     "text": [
      "8575/8575 - 0s - loss: 0.6916 - acc: 0.5324\n",
      "Loss: 0.6916254634759864, Accuracy: 0.5323615074157715\n"
     ]
    }
   ],
   "source": [
    "# Evaluate the model using the test data\n",
    "model_loss, model_accuracy = nn2.evaluate(X_test,y_test,verbose=2)\n",
    "print(f\"Loss: {model_loss}, Accuracy: {model_accuracy}\")"
   ]
  },
  {
   "cell_type": "code",
   "execution_count": 30,
   "metadata": {},
   "outputs": [],
   "source": [
    "# Try 3rd model with less variables - Drop ASK_AMT from X_\n",
    "\n",
    "# Remove IS_SUCCESSFUL and ASK_AMT target from features data and save as target\n",
    "X = charityDF.drop(columns=[\"IS_SUCCESSFUL\", \"ASK_AMT\"]).values\n",
    "\n",
    "# Split training/test datasets\n",
    "X_train, X_test, y_train, y_test = train_test_split(X, y, random_state=42, stratify=y)\n",
    "\n",
    "# Create a StandardScaler instance\n",
    "scaler = StandardScaler()\n",
    "\n",
    "# Fit the StandardScaler\n",
    "X_scaler = scaler.fit(X_train)\n",
    "\n",
    "# transform the data\n",
    "X_train_scaled = X_scaler.transform(X_train)\n",
    "X_test_scaled = X_scaler.transform(X_test)"
   ]
  },
  {
   "cell_type": "code",
   "execution_count": 31,
   "metadata": {},
   "outputs": [
    {
     "output_type": "stream",
     "name": "stdout",
     "text": [
      " Logistic regression model accuracy: 0.713\n"
     ]
    }
   ],
   "source": [
    "# Create regression model to benchmark Deap learning models\n",
    "\n",
    "# Define the logistic regression model\n",
    "log_classifier = LogisticRegression(solver=\"lbfgs\",max_iter=200)\n",
    "\n",
    "# Train the model\n",
    "log_classifier.fit(X_train,y_train)\n",
    "\n",
    "# Evaluate the model\n",
    "y_pred = log_classifier.predict(X_test)\n",
    "print(f\" Logistic regression model accuracy: {accuracy_score(y_test,y_pred):.3f}\")"
   ]
  },
  {
   "cell_type": "code",
   "execution_count": 32,
   "metadata": {},
   "outputs": [
    {
     "output_type": "stream",
     "name": "stdout",
     "text": [
      "Model: \"sequential_2\"\n_________________________________________________________________\nLayer (type)                 Output Shape              Param #   \n=================================================================\ndense_4 (Dense)              (None, 69)                1656      \n_________________________________________________________________\ndense_5 (Dense)              (None, 1)                 70        \n=================================================================\nTotal params: 1,726\nTrainable params: 1,726\nNon-trainable params: 0\n_________________________________________________________________\n"
     ]
    }
   ],
   "source": [
    "# Define the model - deep neural net\n",
    "number_input_features = len(X_train[0])\n",
    "\n",
    "hidden_nodes =  3 * number_input_features\n",
    "nn3 = tf.keras.models.Sequential()\n",
    "\n",
    "# First hidden layer\n",
    "nn3.add(tf.keras.layers.Dense(units=hidden_nodes, input_dim=number_input_features, activation=\"relu\"))\n",
    "\n",
    "# Output layer\n",
    "nn3.add(tf.keras.layers.Dense(units=1, activation=\"sigmoid\"))\n",
    "\n",
    "# Check the structure of the model\n",
    "nn3.summary()"
   ]
  },
  {
   "cell_type": "code",
   "execution_count": 33,
   "metadata": {},
   "outputs": [
    {
     "output_type": "stream",
     "name": "stdout",
     "text": [
      "Epoch 1/100\n",
      "25724/25724 [==============================] - 1s 50us/sample - loss: 0.5852 - acc: 0.7132\n",
      "Epoch 2/100\n",
      "25724/25724 [==============================] - 1s 45us/sample - loss: 0.5655 - acc: 0.7261\n",
      "Epoch 3/100\n",
      "25724/25724 [==============================] - 1s 42us/sample - loss: 0.5628 - acc: 0.7259\n",
      "Epoch 4/100\n",
      "25724/25724 [==============================] - 1s 44us/sample - loss: 0.5609 - acc: 0.7260\n",
      "Epoch 5/100\n",
      "25724/25724 [==============================] - 1s 44us/sample - loss: 0.5599 - acc: 0.7280\n",
      "Epoch 6/100\n",
      "25724/25724 [==============================] - 2s 76us/sample - loss: 0.5588 - acc: 0.7262\n",
      "Epoch 7/100\n",
      "25724/25724 [==============================] - 1s 55us/sample - loss: 0.5578 - acc: 0.7262\n",
      "Epoch 8/100\n",
      "25724/25724 [==============================] - 1s 45us/sample - loss: 0.5571 - acc: 0.7277\n",
      "Epoch 9/100\n",
      "25724/25724 [==============================] - 1s 46us/sample - loss: 0.5568 - acc: 0.7274\n",
      "Epoch 10/100\n",
      "25724/25724 [==============================] - 1s 44us/sample - loss: 0.5560 - acc: 0.7270\n",
      "Epoch 11/100\n",
      "25724/25724 [==============================] - 1s 43us/sample - loss: 0.5560 - acc: 0.7269\n",
      "Epoch 12/100\n",
      "25724/25724 [==============================] - 1s 45us/sample - loss: 0.5556 - acc: 0.7282\n",
      "Epoch 13/100\n",
      "25724/25724 [==============================] - 1s 45us/sample - loss: 0.5555 - acc: 0.7275\n",
      "Epoch 14/100\n",
      "25724/25724 [==============================] - 1s 42us/sample - loss: 0.5552 - acc: 0.7275\n",
      "Epoch 15/100\n",
      "25724/25724 [==============================] - 1s 48us/sample - loss: 0.5549 - acc: 0.7274\n",
      "Epoch 16/100\n",
      "25724/25724 [==============================] - 1s 44us/sample - loss: 0.5544 - acc: 0.7282\n",
      "Epoch 17/100\n",
      "25724/25724 [==============================] - 1s 42us/sample - loss: 0.5546 - acc: 0.7285\n",
      "Epoch 18/100\n",
      "25724/25724 [==============================] - 1s 44us/sample - loss: 0.5542 - acc: 0.7276\n",
      "Epoch 19/100\n",
      "25724/25724 [==============================] - 1s 43us/sample - loss: 0.5542 - acc: 0.7283\n",
      "Epoch 20/100\n",
      "25724/25724 [==============================] - 1s 43us/sample - loss: 0.5538 - acc: 0.7299\n",
      "Epoch 21/100\n",
      "25724/25724 [==============================] - 1s 44us/sample - loss: 0.5533 - acc: 0.7285\n",
      "Epoch 22/100\n",
      "25724/25724 [==============================] - 1s 43us/sample - loss: 0.5537 - acc: 0.7282\n",
      "Epoch 23/100\n",
      "25724/25724 [==============================] - 1s 48us/sample - loss: 0.5535 - acc: 0.7300\n",
      "Epoch 24/100\n",
      "25724/25724 [==============================] - 1s 43us/sample - loss: 0.5535 - acc: 0.7273\n",
      "Epoch 25/100\n",
      "25724/25724 [==============================] - 1s 46us/sample - loss: 0.5533 - acc: 0.7291\n",
      "Epoch 26/100\n",
      "25724/25724 [==============================] - 1s 44us/sample - loss: 0.5535 - acc: 0.7293\n",
      "Epoch 27/100\n",
      "25724/25724 [==============================] - 1s 45us/sample - loss: 0.5533 - acc: 0.7296\n",
      "Epoch 28/100\n",
      "25724/25724 [==============================] - 1s 47us/sample - loss: 0.5532 - acc: 0.7295\n",
      "Epoch 29/100\n",
      "25724/25724 [==============================] - 1s 44us/sample - loss: 0.5526 - acc: 0.7298\n",
      "Epoch 30/100\n",
      "25724/25724 [==============================] - 1s 46us/sample - loss: 0.5531 - acc: 0.7290\n",
      "Epoch 31/100\n",
      "25724/25724 [==============================] - 1s 45us/sample - loss: 0.5528 - acc: 0.7278\n",
      "Epoch 32/100\n",
      "25724/25724 [==============================] - 1s 53us/sample - loss: 0.5530 - acc: 0.7299\n",
      "Epoch 33/100\n",
      "25724/25724 [==============================] - 1s 51us/sample - loss: 0.5526 - acc: 0.7299\n",
      "Epoch 34/100\n",
      "25724/25724 [==============================] - 1s 47us/sample - loss: 0.5525 - acc: 0.7293\n",
      "Epoch 35/100\n",
      "25724/25724 [==============================] - 1s 49us/sample - loss: 0.5525 - acc: 0.7286\n",
      "Epoch 36/100\n",
      "25724/25724 [==============================] - 1s 48us/sample - loss: 0.5521 - acc: 0.7301\n",
      "Epoch 37/100\n",
      "25724/25724 [==============================] - 1s 44us/sample - loss: 0.5523 - acc: 0.7296\n",
      "Epoch 38/100\n",
      "25724/25724 [==============================] - 1s 48us/sample - loss: 0.5522 - acc: 0.7299\n",
      "Epoch 39/100\n",
      "25724/25724 [==============================] - 1s 45us/sample - loss: 0.5519 - acc: 0.7312\n",
      "Epoch 40/100\n",
      "25724/25724 [==============================] - 1s 43us/sample - loss: 0.5522 - acc: 0.7291\n",
      "Epoch 41/100\n",
      "25724/25724 [==============================] - 1s 44us/sample - loss: 0.5518 - acc: 0.7310\n",
      "Epoch 42/100\n",
      "25724/25724 [==============================] - 1s 45us/sample - loss: 0.5517 - acc: 0.7301\n",
      "Epoch 43/100\n",
      "25724/25724 [==============================] - 1s 57us/sample - loss: 0.5515 - acc: 0.7302\n",
      "Epoch 44/100\n",
      "25724/25724 [==============================] - 2s 69us/sample - loss: 0.5514 - acc: 0.7295\n",
      "Epoch 45/100\n",
      "25724/25724 [==============================] - 2s 70us/sample - loss: 0.5513 - acc: 0.7308\n",
      "Epoch 46/100\n",
      "25724/25724 [==============================] - 2s 69us/sample - loss: 0.5516 - acc: 0.7311\n",
      "Epoch 47/100\n",
      "25724/25724 [==============================] - 2s 66us/sample - loss: 0.5515 - acc: 0.7307\n",
      "Epoch 48/100\n",
      "25724/25724 [==============================] - 2s 59us/sample - loss: 0.5513 - acc: 0.7307\n",
      "Epoch 49/100\n",
      "25724/25724 [==============================] - 1s 56us/sample - loss: 0.5513 - acc: 0.7314\n",
      "Epoch 50/100\n",
      "25724/25724 [==============================] - 2s 64us/sample - loss: 0.5515 - acc: 0.7300\n",
      "Epoch 51/100\n",
      "25724/25724 [==============================] - 2s 60us/sample - loss: 0.5513 - acc: 0.7305\n",
      "Epoch 52/100\n",
      "25724/25724 [==============================] - 1s 51us/sample - loss: 0.5514 - acc: 0.7310\n",
      "Epoch 53/100\n",
      "25724/25724 [==============================] - 1s 51us/sample - loss: 0.5510 - acc: 0.7310\n",
      "Epoch 54/100\n",
      "25724/25724 [==============================] - 1s 57us/sample - loss: 0.5509 - acc: 0.7309\n",
      "Epoch 55/100\n",
      "25724/25724 [==============================] - 1s 48us/sample - loss: 0.5510 - acc: 0.7308\n",
      "Epoch 56/100\n",
      "25724/25724 [==============================] - 2s 64us/sample - loss: 0.5510 - acc: 0.7309\n",
      "Epoch 57/100\n",
      "25724/25724 [==============================] - 1s 50us/sample - loss: 0.5511 - acc: 0.7311\n",
      "Epoch 58/100\n",
      "25724/25724 [==============================] - 2s 60us/sample - loss: 0.5507 - acc: 0.7304\n",
      "Epoch 59/100\n",
      "25724/25724 [==============================] - 2s 62us/sample - loss: 0.5506 - acc: 0.7304\n",
      "Epoch 60/100\n",
      "25724/25724 [==============================] - 2s 79us/sample - loss: 0.5509 - acc: 0.7312\n",
      "Epoch 61/100\n",
      "25724/25724 [==============================] - 2s 68us/sample - loss: 0.5507 - acc: 0.7317\n",
      "Epoch 62/100\n",
      "25724/25724 [==============================] - 2s 62us/sample - loss: 0.5506 - acc: 0.7303\n",
      "Epoch 63/100\n",
      "25724/25724 [==============================] - 1s 53us/sample - loss: 0.5506 - acc: 0.7308\n",
      "Epoch 64/100\n",
      "25724/25724 [==============================] - 2s 67us/sample - loss: 0.5505 - acc: 0.7305\n",
      "Epoch 65/100\n",
      "25724/25724 [==============================] - 1s 54us/sample - loss: 0.5507 - acc: 0.7311\n",
      "Epoch 66/100\n",
      "25724/25724 [==============================] - 2s 87us/sample - loss: 0.5505 - acc: 0.7308\n",
      "Epoch 67/100\n",
      "25724/25724 [==============================] - 3s 101us/sample - loss: 0.5506 - acc: 0.7325\n",
      "Epoch 68/100\n",
      "25724/25724 [==============================] - 2s 77us/sample - loss: 0.5505 - acc: 0.7316\n",
      "Epoch 69/100\n",
      "25724/25724 [==============================] - 2s 68us/sample - loss: 0.5504 - acc: 0.7311\n",
      "Epoch 70/100\n",
      "25724/25724 [==============================] - 1s 55us/sample - loss: 0.5503 - acc: 0.7306\n",
      "Epoch 71/100\n",
      "25724/25724 [==============================] - 1s 54us/sample - loss: 0.5502 - acc: 0.7321\n",
      "Epoch 72/100\n",
      "25724/25724 [==============================] - 1s 54us/sample - loss: 0.5503 - acc: 0.7313\n",
      "Epoch 73/100\n",
      "25724/25724 [==============================] - 1s 50us/sample - loss: 0.5502 - acc: 0.7309\n",
      "Epoch 74/100\n",
      "25724/25724 [==============================] - 1s 53us/sample - loss: 0.5503 - acc: 0.7321\n",
      "Epoch 75/100\n",
      "25724/25724 [==============================] - 2s 61us/sample - loss: 0.5502 - acc: 0.7319\n",
      "Epoch 76/100\n",
      "25724/25724 [==============================] - 2s 59us/sample - loss: 0.5503 - acc: 0.7322\n",
      "Epoch 77/100\n",
      "25724/25724 [==============================] - 1s 58us/sample - loss: 0.5501 - acc: 0.7308\n",
      "Epoch 78/100\n",
      "25724/25724 [==============================] - 1s 58us/sample - loss: 0.5501 - acc: 0.7310\n",
      "Epoch 79/100\n",
      "25724/25724 [==============================] - 1s 53us/sample - loss: 0.5498 - acc: 0.7314\n",
      "Epoch 80/100\n",
      "25724/25724 [==============================] - 2s 60us/sample - loss: 0.5497 - acc: 0.7318\n",
      "Epoch 81/100\n",
      "25724/25724 [==============================] - 2s 59us/sample - loss: 0.5500 - acc: 0.7320\n",
      "Epoch 82/100\n",
      "25724/25724 [==============================] - 2s 79us/sample - loss: 0.5499 - acc: 0.7325\n",
      "Epoch 83/100\n",
      "25724/25724 [==============================] - 1s 54us/sample - loss: 0.5497 - acc: 0.7310\n",
      "Epoch 84/100\n",
      "25724/25724 [==============================] - 1s 55us/sample - loss: 0.5500 - acc: 0.7320\n",
      "Epoch 85/100\n",
      "25724/25724 [==============================] - 1s 56us/sample - loss: 0.5498 - acc: 0.7305\n",
      "Epoch 86/100\n",
      "25724/25724 [==============================] - 1s 54us/sample - loss: 0.5494 - acc: 0.7314\n",
      "Epoch 87/100\n",
      "25724/25724 [==============================] - 1s 54us/sample - loss: 0.5498 - acc: 0.7320\n",
      "Epoch 88/100\n",
      "25724/25724 [==============================] - 1s 55us/sample - loss: 0.5495 - acc: 0.7314\n",
      "Epoch 89/100\n",
      "25724/25724 [==============================] - 1s 53us/sample - loss: 0.5496 - acc: 0.7313\n",
      "Epoch 90/100\n",
      "25724/25724 [==============================] - 1s 56us/sample - loss: 0.5498 - acc: 0.7313\n",
      "Epoch 91/100\n",
      "25724/25724 [==============================] - 1s 57us/sample - loss: 0.5496 - acc: 0.7322\n",
      "Epoch 92/100\n",
      "25724/25724 [==============================] - 1s 53us/sample - loss: 0.5498 - acc: 0.7312\n",
      "Epoch 93/100\n",
      "25724/25724 [==============================] - 1s 53us/sample - loss: 0.5495 - acc: 0.7310\n",
      "Epoch 94/100\n",
      "25724/25724 [==============================] - 2s 58us/sample - loss: 0.5496 - acc: 0.7320\n",
      "Epoch 95/100\n",
      "25724/25724 [==============================] - 2s 60us/sample - loss: 0.5498 - acc: 0.7313\n",
      "Epoch 96/100\n",
      "25724/25724 [==============================] - 1s 55us/sample - loss: 0.5497 - acc: 0.7326\n",
      "Epoch 97/100\n",
      "25724/25724 [==============================] - 1s 57us/sample - loss: 0.5495 - acc: 0.7317\n",
      "Epoch 98/100\n",
      "25724/25724 [==============================] - 1s 55us/sample - loss: 0.5494 - acc: 0.7317\n",
      "Epoch 99/100\n",
      "25724/25724 [==============================] - 1s 58us/sample - loss: 0.5496 - acc: 0.7308\n",
      "Epoch 100/100\n",
      "25724/25724 [==============================] - 1s 53us/sample - loss: 0.5495 - acc: 0.7325\n"
     ]
    }
   ],
   "source": [
    "# Compile the model\n",
    "nn3.compile(loss=\"binary_crossentropy\", optimizer=\"adam\", metrics=[\"accuracy\"])\n",
    "# Train the model\n",
    "fit_model = nn3.fit(X_train,y_train,epochs=numEpochs)\n"
   ]
  },
  {
   "cell_type": "code",
   "execution_count": 34,
   "metadata": {},
   "outputs": [
    {
     "output_type": "stream",
     "name": "stdout",
     "text": [
      "8575/8575 - 0s - loss: 0.5642 - acc: 0.7178\n",
      "Loss: 0.5642278649647103, Accuracy: 0.7177842855453491\n"
     ]
    }
   ],
   "source": [
    "# Evaluate the model using the test data\n",
    "model_loss, model_accuracy = nn3.evaluate(X_test,y_test,verbose=2)\n",
    "print(f\"Loss: {model_loss}, Accuracy: {model_accuracy}\")"
   ]
  },
  {
   "cell_type": "code",
   "execution_count": 35,
   "metadata": {},
   "outputs": [
    {
     "output_type": "stream",
     "name": "stdout",
     "text": [
      "Model: \"sequential_3\"\n_________________________________________________________________\nLayer (type)                 Output Shape              Param #   \n=================================================================\ndense_6 (Dense)              (None, 46)                1104      \n_________________________________________________________________\ndense_7 (Dense)              (None, 23)                1081      \n_________________________________________________________________\ndense_8 (Dense)              (None, 1)                 24        \n=================================================================\nTotal params: 2,209\nTrainable params: 2,209\nNon-trainable params: 0\n_________________________________________________________________\n"
     ]
    }
   ],
   "source": [
    "# Define the model - deep neural net 4th attempt - add additional hidden layer\n",
    "number_input_features = len(X_train[0])\n",
    "\n",
    "hidden_nodes_layer1 =  2 * number_input_features\n",
    "hidden_nodes_layer2 = number_input_features\n",
    "\n",
    "nn4 = tf.keras.models.Sequential()\n",
    "\n",
    "# First hidden layer\n",
    "nn4.add(tf.keras.layers.Dense(units=hidden_nodes_layer1, input_dim=number_input_features, activation=\"relu\"))\n",
    "\n",
    "# Second hidden layer\n",
    "nn4.add(tf.keras.layers.Dense(units=hidden_nodes_layer2, activation=\"relu\"))\n",
    "\n",
    "\n",
    "# Output layer\n",
    "nn4.add(tf.keras.layers.Dense(units=1, activation=\"sigmoid\"))\n",
    "\n",
    "# Check the structure of the model\n",
    "nn4.summary()"
   ]
  },
  {
   "cell_type": "code",
   "execution_count": 36,
   "metadata": {},
   "outputs": [
    {
     "output_type": "stream",
     "name": "stdout",
     "text": [
      "Epoch 1/100\n",
      "25724/25724 [==============================] - 2s 60us/sample - loss: 0.5800 - acc: 0.7155\n",
      "Epoch 2/100\n",
      "25724/25724 [==============================] - 2s 64us/sample - loss: 0.5629 - acc: 0.7247\n",
      "Epoch 3/100\n",
      "25724/25724 [==============================] - 1s 51us/sample - loss: 0.5598 - acc: 0.7260\n",
      "Epoch 4/100\n",
      "25724/25724 [==============================] - 1s 53us/sample - loss: 0.5590 - acc: 0.7259\n",
      "Epoch 5/100\n",
      "25724/25724 [==============================] - 2s 68us/sample - loss: 0.5580 - acc: 0.7262\n",
      "Epoch 6/100\n",
      "25724/25724 [==============================] - 1s 55us/sample - loss: 0.5578 - acc: 0.7273\n",
      "Epoch 7/100\n",
      "25724/25724 [==============================] - 2s 67us/sample - loss: 0.5564 - acc: 0.7278\n",
      "Epoch 8/100\n",
      "25724/25724 [==============================] - 2s 61us/sample - loss: 0.5565 - acc: 0.7277\n",
      "Epoch 9/100\n",
      "25724/25724 [==============================] - 2s 59us/sample - loss: 0.5557 - acc: 0.7280\n",
      "Epoch 10/100\n",
      "25724/25724 [==============================] - 1s 51us/sample - loss: 0.5555 - acc: 0.7283\n",
      "Epoch 11/100\n",
      "25724/25724 [==============================] - 2s 61us/sample - loss: 0.5561 - acc: 0.7275\n",
      "Epoch 12/100\n",
      "25724/25724 [==============================] - 2s 66us/sample - loss: 0.5550 - acc: 0.7287\n",
      "Epoch 13/100\n",
      "25724/25724 [==============================] - 2s 68us/sample - loss: 0.5548 - acc: 0.7285\n",
      "Epoch 14/100\n",
      "25724/25724 [==============================] - 3s 98us/sample - loss: 0.5550 - acc: 0.7286\n",
      "Epoch 15/100\n",
      "25724/25724 [==============================] - 2s 78us/sample - loss: 0.5544 - acc: 0.7277\n",
      "Epoch 16/100\n",
      "25724/25724 [==============================] - 2s 63us/sample - loss: 0.5546 - acc: 0.7281\n",
      "Epoch 17/100\n",
      "25724/25724 [==============================] - 2s 74us/sample - loss: 0.5542 - acc: 0.7269\n",
      "Epoch 18/100\n",
      "25724/25724 [==============================] - 2s 59us/sample - loss: 0.5537 - acc: 0.7295\n",
      "Epoch 19/100\n",
      "25724/25724 [==============================] - 2s 79us/sample - loss: 0.5538 - acc: 0.7286\n",
      "Epoch 20/100\n",
      "25724/25724 [==============================] - 2s 65us/sample - loss: 0.5533 - acc: 0.7297\n",
      "Epoch 21/100\n",
      "25724/25724 [==============================] - 2s 66us/sample - loss: 0.5534 - acc: 0.7293\n",
      "Epoch 22/100\n",
      "25724/25724 [==============================] - 2s 62us/sample - loss: 0.5534 - acc: 0.7291\n",
      "Epoch 23/100\n",
      "25724/25724 [==============================] - 1s 57us/sample - loss: 0.5532 - acc: 0.7294\n",
      "Epoch 24/100\n",
      "25724/25724 [==============================] - 1s 56us/sample - loss: 0.5528 - acc: 0.7299\n",
      "Epoch 25/100\n",
      "25724/25724 [==============================] - 1s 56us/sample - loss: 0.5530 - acc: 0.7297\n",
      "Epoch 26/100\n",
      "25724/25724 [==============================] - 2s 61us/sample - loss: 0.5524 - acc: 0.7296\n",
      "Epoch 27/100\n",
      "25724/25724 [==============================] - 2s 59us/sample - loss: 0.5527 - acc: 0.7294\n",
      "Epoch 28/100\n",
      "25724/25724 [==============================] - 2s 60us/sample - loss: 0.5529 - acc: 0.7297\n",
      "Epoch 29/100\n",
      "25724/25724 [==============================] - 1s 56us/sample - loss: 0.5521 - acc: 0.7305\n",
      "Epoch 30/100\n",
      "25724/25724 [==============================] - 1s 56us/sample - loss: 0.5526 - acc: 0.7301\n",
      "Epoch 31/100\n",
      "25724/25724 [==============================] - 2s 59us/sample - loss: 0.5523 - acc: 0.7301\n",
      "Epoch 32/100\n",
      "25724/25724 [==============================] - 2s 59us/sample - loss: 0.5521 - acc: 0.7293\n",
      "Epoch 33/100\n",
      "25724/25724 [==============================] - 2s 60us/sample - loss: 0.5521 - acc: 0.7293\n",
      "Epoch 34/100\n",
      "25724/25724 [==============================] - 2s 62us/sample - loss: 0.5521 - acc: 0.7304\n",
      "Epoch 35/100\n",
      "25724/25724 [==============================] - 1s 56us/sample - loss: 0.5517 - acc: 0.7301\n",
      "Epoch 36/100\n",
      "25724/25724 [==============================] - 1s 58us/sample - loss: 0.5516 - acc: 0.7303\n",
      "Epoch 37/100\n",
      "25724/25724 [==============================] - 1s 56us/sample - loss: 0.5518 - acc: 0.7294\n",
      "Epoch 38/100\n",
      "25724/25724 [==============================] - 1s 57us/sample - loss: 0.5511 - acc: 0.7303\n",
      "Epoch 39/100\n",
      "25724/25724 [==============================] - 1s 58us/sample - loss: 0.5514 - acc: 0.7315\n",
      "Epoch 40/100\n",
      "25724/25724 [==============================] - 1s 57us/sample - loss: 0.5514 - acc: 0.7307\n",
      "Epoch 41/100\n",
      "25724/25724 [==============================] - 2s 61us/sample - loss: 0.5514 - acc: 0.7312\n",
      "Epoch 42/100\n",
      "25724/25724 [==============================] - 1s 58us/sample - loss: 0.5514 - acc: 0.7294\n",
      "Epoch 43/100\n",
      "25724/25724 [==============================] - 1s 58us/sample - loss: 0.5513 - acc: 0.7295\n",
      "Epoch 44/100\n",
      "25724/25724 [==============================] - 2s 60us/sample - loss: 0.5511 - acc: 0.7312\n",
      "Epoch 45/100\n",
      "25724/25724 [==============================] - 2s 96us/sample - loss: 0.5514 - acc: 0.7310\n",
      "Epoch 46/100\n",
      "25724/25724 [==============================] - 2s 69us/sample - loss: 0.5511 - acc: 0.7305\n",
      "Epoch 47/100\n",
      "25724/25724 [==============================] - 2s 60us/sample - loss: 0.5509 - acc: 0.7317\n",
      "Epoch 48/100\n",
      "25724/25724 [==============================] - 1s 58us/sample - loss: 0.5507 - acc: 0.7304\n",
      "Epoch 49/100\n",
      "25724/25724 [==============================] - 2s 59us/sample - loss: 0.5508 - acc: 0.7307\n",
      "Epoch 50/100\n",
      "25724/25724 [==============================] - 2s 61us/sample - loss: 0.5506 - acc: 0.7299\n",
      "Epoch 51/100\n",
      "25724/25724 [==============================] - 2s 59us/sample - loss: 0.5506 - acc: 0.7313\n",
      "Epoch 52/100\n",
      "25724/25724 [==============================] - 2s 60us/sample - loss: 0.5503 - acc: 0.7315\n",
      "Epoch 53/100\n",
      "25724/25724 [==============================] - 2s 60us/sample - loss: 0.5502 - acc: 0.7313\n",
      "Epoch 54/100\n",
      "25724/25724 [==============================] - 2s 63us/sample - loss: 0.5506 - acc: 0.7318\n",
      "Epoch 55/100\n",
      "25724/25724 [==============================] - 2s 59us/sample - loss: 0.5504 - acc: 0.7308\n",
      "Epoch 56/100\n",
      "25724/25724 [==============================] - 1s 58us/sample - loss: 0.5503 - acc: 0.7324\n",
      "Epoch 57/100\n",
      "25724/25724 [==============================] - 2s 61us/sample - loss: 0.5503 - acc: 0.7310\n",
      "Epoch 58/100\n",
      "25724/25724 [==============================] - 2s 60us/sample - loss: 0.5502 - acc: 0.7321\n",
      "Epoch 59/100\n",
      "25724/25724 [==============================] - 2s 80us/sample - loss: 0.5503 - acc: 0.7315\n",
      "Epoch 60/100\n",
      "25724/25724 [==============================] - 2s 86us/sample - loss: 0.5500 - acc: 0.7314\n",
      "Epoch 61/100\n",
      "25724/25724 [==============================] - 2s 63us/sample - loss: 0.5501 - acc: 0.7308\n",
      "Epoch 62/100\n",
      "25724/25724 [==============================] - 2s 60us/sample - loss: 0.5499 - acc: 0.7314\n",
      "Epoch 63/100\n",
      "25724/25724 [==============================] - 2s 58us/sample - loss: 0.5503 - acc: 0.7314\n",
      "Epoch 64/100\n",
      "25724/25724 [==============================] - 2s 61us/sample - loss: 0.5501 - acc: 0.7315\n",
      "Epoch 65/100\n",
      "25724/25724 [==============================] - 2s 62us/sample - loss: 0.5498 - acc: 0.7297\n",
      "Epoch 66/100\n",
      "25724/25724 [==============================] - 2s 60us/sample - loss: 0.5498 - acc: 0.7331\n",
      "Epoch 67/100\n",
      "25724/25724 [==============================] - 2s 61us/sample - loss: 0.5500 - acc: 0.7312\n",
      "Epoch 68/100\n",
      "25724/25724 [==============================] - 2s 59us/sample - loss: 0.5496 - acc: 0.7320\n",
      "Epoch 69/100\n",
      "25724/25724 [==============================] - 2s 65us/sample - loss: 0.5496 - acc: 0.7314\n",
      "Epoch 70/100\n",
      "25724/25724 [==============================] - 2s 61us/sample - loss: 0.5498 - acc: 0.7317\n",
      "Epoch 71/100\n",
      "25724/25724 [==============================] - 2s 62us/sample - loss: 0.5496 - acc: 0.7315\n",
      "Epoch 72/100\n",
      "25724/25724 [==============================] - 2s 61us/sample - loss: 0.5496 - acc: 0.7313\n",
      "Epoch 73/100\n",
      "25724/25724 [==============================] - 2s 60us/sample - loss: 0.5497 - acc: 0.7315\n",
      "Epoch 74/100\n",
      "25724/25724 [==============================] - 2s 65us/sample - loss: 0.5495 - acc: 0.7300\n",
      "Epoch 75/100\n",
      "25724/25724 [==============================] - 2s 68us/sample - loss: 0.5496 - acc: 0.7309\n",
      "Epoch 76/100\n",
      "25724/25724 [==============================] - 2s 61us/sample - loss: 0.5493 - acc: 0.7313\n",
      "Epoch 77/100\n",
      "25724/25724 [==============================] - 2s 61us/sample - loss: 0.5493 - acc: 0.7325\n",
      "Epoch 78/100\n",
      "25724/25724 [==============================] - 2s 61us/sample - loss: 0.5492 - acc: 0.7319\n",
      "Epoch 79/100\n",
      "25724/25724 [==============================] - 2s 68us/sample - loss: 0.5492 - acc: 0.7315\n",
      "Epoch 80/100\n",
      "25724/25724 [==============================] - 2s 60us/sample - loss: 0.5494 - acc: 0.7317\n",
      "Epoch 81/100\n",
      "25724/25724 [==============================] - 2s 67us/sample - loss: 0.5492 - acc: 0.7312\n",
      "Epoch 82/100\n",
      "25724/25724 [==============================] - 2s 64us/sample - loss: 0.5493 - acc: 0.7321\n",
      "Epoch 83/100\n",
      "25724/25724 [==============================] - 2s 66us/sample - loss: 0.5491 - acc: 0.7320\n",
      "Epoch 84/100\n",
      "25724/25724 [==============================] - 2s 64us/sample - loss: 0.5493 - acc: 0.7310\n",
      "Epoch 85/100\n",
      "25724/25724 [==============================] - 2s 60us/sample - loss: 0.5491 - acc: 0.7320\n",
      "Epoch 86/100\n",
      "25724/25724 [==============================] - 2s 64us/sample - loss: 0.5492 - acc: 0.7313\n",
      "Epoch 87/100\n",
      "25724/25724 [==============================] - 2s 61us/sample - loss: 0.5493 - acc: 0.7318\n",
      "Epoch 88/100\n",
      "25724/25724 [==============================] - 2s 66us/sample - loss: 0.5490 - acc: 0.7310\n",
      "Epoch 89/100\n",
      "25724/25724 [==============================] - 2s 61us/sample - loss: 0.5491 - acc: 0.7314\n",
      "Epoch 90/100\n",
      "25724/25724 [==============================] - 2s 62us/sample - loss: 0.5487 - acc: 0.7319\n",
      "Epoch 91/100\n",
      "25724/25724 [==============================] - 2s 61us/sample - loss: 0.5488 - acc: 0.7318\n",
      "Epoch 92/100\n",
      "25724/25724 [==============================] - 2s 67us/sample - loss: 0.5489 - acc: 0.7317\n",
      "Epoch 93/100\n",
      "25724/25724 [==============================] - 2s 61us/sample - loss: 0.5491 - acc: 0.7311\n",
      "Epoch 94/100\n",
      "25724/25724 [==============================] - 2s 61us/sample - loss: 0.5487 - acc: 0.7310\n",
      "Epoch 95/100\n",
      "25724/25724 [==============================] - 2s 59us/sample - loss: 0.5490 - acc: 0.7313\n",
      "Epoch 96/100\n",
      "25724/25724 [==============================] - 2s 66us/sample - loss: 0.5487 - acc: 0.7324\n",
      "Epoch 97/100\n",
      "25724/25724 [==============================] - 2s 97us/sample - loss: 0.5485 - acc: 0.7306\n",
      "Epoch 98/100\n",
      "25724/25724 [==============================] - 2s 69us/sample - loss: 0.5489 - acc: 0.7322\n",
      "Epoch 99/100\n",
      "25724/25724 [==============================] - 2s 80us/sample - loss: 0.5488 - acc: 0.7319\n",
      "Epoch 100/100\n",
      "25724/25724 [==============================] - 2s 80us/sample - loss: 0.5486 - acc: 0.7317\n"
     ]
    }
   ],
   "source": [
    "# Compile the model\n",
    "nn4.compile(loss=\"binary_crossentropy\", optimizer=\"adam\", metrics=[\"accuracy\"])\n",
    "# Train the model\n",
    "fit_model = nn4.fit(X_train,y_train,epochs=numEpochs)"
   ]
  },
  {
   "cell_type": "code",
   "execution_count": 37,
   "metadata": {},
   "outputs": [
    {
     "output_type": "stream",
     "name": "stdout",
     "text": [
      "8575/8575 - 0s - loss: 0.5645 - acc: 0.7181\n",
      "Loss: 0.5645495433293001, Accuracy: 0.7181341052055359\n"
     ]
    }
   ],
   "source": [
    "# Evaluate the model using the test data\n",
    "model_loss, model_accuracy = nn4.evaluate(X_test,y_test,verbose=2)\n",
    "print(f\"Loss: {model_loss}, Accuracy: {model_accuracy}\")"
   ]
  }
 ]
}